{
 "cells": [
  {
   "cell_type": "markdown",
   "id": "9fd0b145",
   "metadata": {},
   "source": [
    "A. Watch this first pre-lecture video (\"Hypothesis testing. Null vs alternative\") addressing the question \"What is a hypothesis?\""
   ]
  },
  {
   "cell_type": "markdown",
   "id": "8d5b8e6c",
   "metadata": {},
   "source": [
    "B. Watch this second pre-lecture video (\"What is a p-value\") providing an intuitivie introduction to p-values"
   ]
  },
  {
   "cell_type": "markdown",
   "id": "62f50244",
   "metadata": {},
   "source": [
    "1. The \"first pre-lecture video\" (above) describes hypothesis testing as addressing \"an idea that can be tested\", and the end of the video then discusses what our actual intended purpose in setting up a null hypothesis is. What is the key factor that makes the difference between ideas that can, and cannot be examined and tested statistically? What would you describe is the key \"criteria\" defining what a good null hypothesis is? And what is the difference between a null hypothesis and an alternative hypothesis in the context of hypothesis testing? Answer these questions with concise explanations in your own words"
   ]
  },
  {
   "cell_type": "markdown",
   "id": "a1447376",
   "metadata": {},
   "source": [
    "(a) The key factor that distinguishes ideas that can be statistically examined from those that cannot is measurability. An idea must be framed in a way that allows for quantifiable data collection. This means it should be possible to define variables that can be measured and to establish a relationship between these variables that can be tested using statistical methods. If the idea is too vague or qualitative, it becomes challenging to apply statistical analysis effectively.\n",
    "\n",
    "(b)A good null hypothesis should be testable, specific, falsifiable, and simple.\n",
    "\n",
    "(c) Null Hypothesis (H0): This hypothesis represents a statement of no effect or no difference. It serves as a baseline or default position that suggests any observed effect in the data is due to random chance. And statisticians usually aim to reject null hypothesis.\n",
    "\n",
    "Alternative Hypothesis (H1 or Ha): This hypothesis proposes that there is an effect or a difference. It suggests that the observed data indicate a significant change or relationship that cannot be attributed to chance."
   ]
  },
  {
   "cell_type": "markdown",
   "id": "2135d797",
   "metadata": {},
   "source": [
    "https://chatgpt.com/share/670ca147-dd7c-8010-882c-67580341974b"
   ]
  },
  {
   "cell_type": "markdown",
   "id": "01af5d8f",
   "metadata": {},
   "source": [
    "2. Towards the end of the \"first pre-lecture\" video (above) it is stated that, \"It is important to note that outcomes of tests refer to the population parameter, rather than the sample statistic! As such, the result that we get is for the population.\" In terms of the distinctions between the concepts of  𝑥𝑖's,  𝑥¯,  𝜇, and  𝜇0, how would you describe what the sentence above means? Explain this concisely in your own words for a \"non-statsitical\" audience, defining the technical statistical terminology you use in your answer.\n",
    "¶"
   ]
  },
  {
   "cell_type": "markdown",
   "id": "34468e88",
   "metadata": {},
   "source": [
    "In concept, 𝑥i represents individual data points or values in a sample;\n",
    "𝑥¯ represents the sample mean;\n",
    "𝜇 represents the population mean;\n",
    "and 𝜇0 represents the hypothesized mean that we use as a comparison point.\n",
    "xi and 𝑥¯ are sample statistic and 𝜇 is population parameter. \n",
    "\n",
    "The statement emphasizes that when we conduct hypothesis testing, we are trying to make conclusions about the entire population (𝜇), not just the sample we collected data from (𝑥ˉ). The results of statistical tests tell us whether the sample data suggest that there is a significant difference between our observed average score and the hypothesized population average (𝜇0). In simple terms, we’re using the sample data to infer or make educated guesses about the broader group, but the the hypothesized population average is conclusions which are aimed at understanding the population, not just the small group we examined. \n"
   ]
  },
  {
   "cell_type": "markdown",
   "id": "f459e5d2",
   "metadata": {},
   "source": [
    "https://chatgpt.com/share/670ca147-dd7c-8010-882c-67580341974b"
   ]
  },
  {
   "cell_type": "markdown",
   "id": "1715fabf",
   "metadata": {},
   "source": [
    "3. The second \"Pre-lecture\" video (above) explains that we \"imagine a world where the null hypothesis is true\" when calculating a p-value? Explain why this is in your own words in a way that makes the most sense to you.\n",
    "¶"
   ]
  },
  {
   "cell_type": "markdown",
   "id": "c432fff7",
   "metadata": {},
   "source": [
    "When we calculate a p-value, we are essentially testing a hypothesis about a population parameter (like a mean or proportion) against a null hypothesis (often that there is no effect or difference). This distribution represents all the possible values of the test statistic we could obtain from repeated samples taken from the population, given that the null hypothesis is true.P-value means we look at how extreme our observed result is within the context of the sampling distribution we've created. So the world under null hypothesis could be surprsing, is the p-value is really low, and the world could be more reasonable if the p-value is high. "
   ]
  },
  {
   "cell_type": "markdown",
   "id": "2cc89997",
   "metadata": {},
   "source": [
    "4. The second \"Pre-lecture\" video (above) suggests that a smaller p-value makes the null hypothesis look more ridiculous. Explain why this is in your own words in a way that makes the most sense to you, clarifying the meaning of any technical statistical terminology you use in your answer.\n",
    "¶"
   ]
  },
  {
   "cell_type": "markdown",
   "id": "f821ee26",
   "metadata": {},
   "source": [
    " The p-value is calculated based on this sampling distribution. It tells us the probability of observing a test statistic as extreme as, or more extreme than, the one we calculated from our sample data, given that the null hypothesis is true.The smaller the p-value, the rarer the sample where T_S we observed is, and it is almost impossible to appear in the overall situation where H0 is correct, so we reject H0\n",
    " \n",
    " If our observed test statistic falls within the center of the sampling distribution (where most of the values are), we would expect to see a larger p-value. This indicates that the observed result is consistent with the null hypothesis.\n",
    "Conversely, if our observed test statistic falls in the tails of the sampling distribution (the extreme ends), we would find a smaller p-value, suggesting that such a result would be very unlikely under the null hypothesis.\n",
    "\n",
    "A small p-value (indicated by a large area under the curve to the right of the observed statistic) suggests that such an extreme result is unlikely to occur if the null hypothesis were true. Therefore, this leads us to question the validity of the null hypothesis, making it seem less plausible or \"ridiculous.\""
   ]
  },
  {
   "cell_type": "markdown",
   "id": "56951ef1",
   "metadata": {},
   "source": [
    "https://chatgpt.com/share/670cab3d-870c-8010-b701-1dfda849f312"
   ]
  },
  {
   "cell_type": "markdown",
   "id": "d1c1d2fe",
   "metadata": {},
   "source": [
    "5. Güntürkün (2003) recorded how kissing couples tilt their heads. 80 out of 124 couples, or 64.5% tilted their heads to the right. Simulate a p-value using a \"50/50 coin-flipping\" model for the assumption of the null hypothesis  𝐻0 that the population of humans don't have left or right head tilt tendencies when kissing, and use the table below to determine the level of evidence we have against  𝐻0\n",
    " ."
   ]
  },
  {
   "cell_type": "code",
   "execution_count": 4,
   "id": "0c544a5a",
   "metadata": {},
   "outputs": [],
   "source": [
    "import numpy as np\n",
    "import pandas as pd\n",
    "\n",
    "population_parameter_value_under_H0= 0.5\n",
    "test_statistic=0.645\n",
    "np.random.seed(1)\n",
    "number_of_simulation=10000\n",
    "n_size=124\n",
    "IncreaseProportionSimulation_underH0random = np.zeros(number_of_simulation)\n",
    "for i in range(number_of_simulation):\n",
    "    random_improvement=np.random.choice([0,1], size=124, replace= True)\n",
    "    IncreaseProportionSimulation_underH0random[i]=random_improvement.mean()\n"
   ]
  },
  {
   "cell_type": "code",
   "execution_count": 5,
   "id": "1d395745",
   "metadata": {},
   "outputs": [
    {
     "data": {
      "text/plain": [
       "0.0015"
      ]
     },
     "execution_count": 5,
     "metadata": {},
     "output_type": "execute_result"
    }
   ],
   "source": [
    "simulated_Stat=IncreaseProportionSimulation_underH0random\n",
    "simulatedstats_as_or_more_extreme_than_observationstat = \\\n",
    "    abs(simulated_Stat - population_parameter_value_under_H0)>=\\\n",
    "    abs(test_statistic - population_parameter_value_under_H0)\n",
    "simulatedstats_as_or_more_extreme_than_observationstat.sum()/number_of_simulation"
   ]
  },
  {
   "cell_type": "markdown",
   "id": "8abeab6f",
   "metadata": {},
   "source": [
    "Because 0.01<=p-value<=0.001, so we have strong evidence against the null hypothesis."
   ]
  },
  {
   "cell_type": "markdown",
   "id": "e280293f",
   "metadata": {},
   "source": [
    "6. Can a smaller p-value definitively prove that the null hypothesis is false? Is it possible to definitively prove that Fido (from the \"second pre-lecture video\") is innocent using a p-value? Is it possible to difinitively prove that Fido is guilty using a p-value? How low or high does a p-value have to be to definitely prove one or the other? Explain this concisely in your own words."
   ]
  },
  {
   "cell_type": "markdown",
   "id": "bfbb4cae",
   "metadata": {},
   "source": [
    "A p-value measures the probability of observing the data (or something more extreme) given that the null hypothesis is true. So p-value cannot definitively prove that the null hypothesis is false, that is to say, in the second vedio, it is impossible to prove that Fido is innocent using p-value. And p-value cannot prove that Fido is guilty, either.\n",
    "A low p-value against a hypothesis that suggests Fido is guilty (i.e., the null hypothesis could state \"Fido is guilty\") would provide evidence against that hypothesis, but it does not prove innocence definitively. It simply suggests that the evidence is more consistent with the idea that Fido is not guilty.\n",
    "\n",
    "Conversely, if the p-value is high when testing a hypothesis of innocence, this does not prove guilt. It only indicates a lack of evidence to reject the null hypothesis of innocence."
   ]
  },
  {
   "cell_type": "markdown",
   "id": "4dea0d30",
   "metadata": {},
   "source": [
    "7. In the second half of the \"first pre-lecture video\" the concept of a \"one sided\" (or \"one tailed\") test is introduced in contrast to a \"two sided\" (or \"two tailed\") test. Work with a ChatBot to adjust the code from \"Demo II of the Week 5 TUT\" (which revisits the \"Vaccine Data Analysis Assignment\" from Week 04 HW \"Question 8\") in order to compute a p-value for a \"one sided\" (or \"one tailed\") hypothesis test rather than the \"two sided\" (or \"two tailed\") version it provides. Describe (perhaps with the help of your ChatBot) what changed in the code; how this changes the interpretation of the hypothesis test; and whether or not we should indeed expect the p-value to be smaller in the \"one tailed\" versus \"two tailed\" analysis."
   ]
  },
  {
   "cell_type": "code",
   "execution_count": 6,
   "id": "8dc68b6b",
   "metadata": {},
   "outputs": [
    {
     "data": {
      "text/html": [
       "<div>\n",
       "<style scoped>\n",
       "    .dataframe tbody tr th:only-of-type {\n",
       "        vertical-align: middle;\n",
       "    }\n",
       "\n",
       "    .dataframe tbody tr th {\n",
       "        vertical-align: top;\n",
       "    }\n",
       "\n",
       "    .dataframe thead th {\n",
       "        text-align: right;\n",
       "    }\n",
       "</style>\n",
       "<table border=\"1\" class=\"dataframe\">\n",
       "  <thead>\n",
       "    <tr style=\"text-align: right;\">\n",
       "      <th></th>\n",
       "      <th>PatientID</th>\n",
       "      <th>Age</th>\n",
       "      <th>Gender</th>\n",
       "      <th>InitialHealthScore</th>\n",
       "      <th>FinalHealthScore</th>\n",
       "    </tr>\n",
       "  </thead>\n",
       "  <tbody>\n",
       "    <tr>\n",
       "      <th>0</th>\n",
       "      <td>1</td>\n",
       "      <td>45</td>\n",
       "      <td>M</td>\n",
       "      <td>84</td>\n",
       "      <td>86</td>\n",
       "    </tr>\n",
       "    <tr>\n",
       "      <th>1</th>\n",
       "      <td>2</td>\n",
       "      <td>34</td>\n",
       "      <td>F</td>\n",
       "      <td>78</td>\n",
       "      <td>86</td>\n",
       "    </tr>\n",
       "    <tr>\n",
       "      <th>2</th>\n",
       "      <td>3</td>\n",
       "      <td>29</td>\n",
       "      <td>M</td>\n",
       "      <td>83</td>\n",
       "      <td>80</td>\n",
       "    </tr>\n",
       "    <tr>\n",
       "      <th>3</th>\n",
       "      <td>4</td>\n",
       "      <td>52</td>\n",
       "      <td>F</td>\n",
       "      <td>81</td>\n",
       "      <td>86</td>\n",
       "    </tr>\n",
       "    <tr>\n",
       "      <th>4</th>\n",
       "      <td>5</td>\n",
       "      <td>37</td>\n",
       "      <td>M</td>\n",
       "      <td>81</td>\n",
       "      <td>84</td>\n",
       "    </tr>\n",
       "    <tr>\n",
       "      <th>5</th>\n",
       "      <td>6</td>\n",
       "      <td>41</td>\n",
       "      <td>F</td>\n",
       "      <td>80</td>\n",
       "      <td>86</td>\n",
       "    </tr>\n",
       "    <tr>\n",
       "      <th>6</th>\n",
       "      <td>7</td>\n",
       "      <td>33</td>\n",
       "      <td>M</td>\n",
       "      <td>79</td>\n",
       "      <td>86</td>\n",
       "    </tr>\n",
       "    <tr>\n",
       "      <th>7</th>\n",
       "      <td>8</td>\n",
       "      <td>48</td>\n",
       "      <td>F</td>\n",
       "      <td>85</td>\n",
       "      <td>82</td>\n",
       "    </tr>\n",
       "    <tr>\n",
       "      <th>8</th>\n",
       "      <td>9</td>\n",
       "      <td>26</td>\n",
       "      <td>M</td>\n",
       "      <td>76</td>\n",
       "      <td>83</td>\n",
       "    </tr>\n",
       "    <tr>\n",
       "      <th>9</th>\n",
       "      <td>10</td>\n",
       "      <td>39</td>\n",
       "      <td>F</td>\n",
       "      <td>83</td>\n",
       "      <td>84</td>\n",
       "    </tr>\n",
       "  </tbody>\n",
       "</table>\n",
       "</div>"
      ],
      "text/plain": [
       "   PatientID  Age Gender  InitialHealthScore  FinalHealthScore\n",
       "0          1   45      M                  84                86\n",
       "1          2   34      F                  78                86\n",
       "2          3   29      M                  83                80\n",
       "3          4   52      F                  81                86\n",
       "4          5   37      M                  81                84\n",
       "5          6   41      F                  80                86\n",
       "6          7   33      M                  79                86\n",
       "7          8   48      F                  85                82\n",
       "8          9   26      M                  76                83\n",
       "9         10   39      F                  83                84"
      ]
     },
     "execution_count": 6,
     "metadata": {},
     "output_type": "execute_result"
    }
   ],
   "source": [
    "import pandas as pd\n",
    "import numpy as np\n",
    "\n",
    "\n",
    "patient_data = pd.DataFrame({\n",
    "    \"PatientID\": [1, 2, 3, 4, 5, 6, 7, 8, 9, 10],\n",
    "    \"Age\": [45, 34, 29, 52, 37, 41, 33, 48, 26, 39],\n",
    "    \"Gender\": [\"M\", \"F\", \"M\", \"F\", \"M\", \"F\", \"M\", \"F\", \"M\", \"F\"],\n",
    "    \"InitialHealthScore\": [84, 78, 83, 81, 81, 80, 79, 85, 76, 83],\n",
    "    \"FinalHealthScore\": [86, 86, 80, 86, 84, 86, 86, 82, 83, 84]\n",
    "})\n",
    "patient_data"
   ]
  },
  {
   "cell_type": "code",
   "execution_count": 9,
   "id": "bd325862",
   "metadata": {},
   "outputs": [
    {
     "data": {
      "text/html": [
       "<div>\n",
       "<style scoped>\n",
       "    .dataframe tbody tr th:only-of-type {\n",
       "        vertical-align: middle;\n",
       "    }\n",
       "\n",
       "    .dataframe tbody tr th {\n",
       "        vertical-align: top;\n",
       "    }\n",
       "\n",
       "    .dataframe thead th {\n",
       "        text-align: right;\n",
       "    }\n",
       "</style>\n",
       "<table border=\"1\" class=\"dataframe\">\n",
       "  <thead>\n",
       "    <tr style=\"text-align: right;\">\n",
       "      <th></th>\n",
       "      <th>PatientID</th>\n",
       "      <th>Age</th>\n",
       "      <th>Gender</th>\n",
       "      <th>InitialHealthScore</th>\n",
       "      <th>FinalHealthScore</th>\n",
       "      <th>HealthScoreChange</th>\n",
       "    </tr>\n",
       "  </thead>\n",
       "  <tbody>\n",
       "    <tr>\n",
       "      <th>0</th>\n",
       "      <td>1</td>\n",
       "      <td>45</td>\n",
       "      <td>M</td>\n",
       "      <td>84</td>\n",
       "      <td>86</td>\n",
       "      <td>2</td>\n",
       "    </tr>\n",
       "    <tr>\n",
       "      <th>1</th>\n",
       "      <td>2</td>\n",
       "      <td>34</td>\n",
       "      <td>F</td>\n",
       "      <td>78</td>\n",
       "      <td>86</td>\n",
       "      <td>8</td>\n",
       "    </tr>\n",
       "    <tr>\n",
       "      <th>2</th>\n",
       "      <td>3</td>\n",
       "      <td>29</td>\n",
       "      <td>M</td>\n",
       "      <td>83</td>\n",
       "      <td>80</td>\n",
       "      <td>-3</td>\n",
       "    </tr>\n",
       "    <tr>\n",
       "      <th>3</th>\n",
       "      <td>4</td>\n",
       "      <td>52</td>\n",
       "      <td>F</td>\n",
       "      <td>81</td>\n",
       "      <td>86</td>\n",
       "      <td>5</td>\n",
       "    </tr>\n",
       "    <tr>\n",
       "      <th>4</th>\n",
       "      <td>5</td>\n",
       "      <td>37</td>\n",
       "      <td>M</td>\n",
       "      <td>81</td>\n",
       "      <td>84</td>\n",
       "      <td>3</td>\n",
       "    </tr>\n",
       "    <tr>\n",
       "      <th>5</th>\n",
       "      <td>6</td>\n",
       "      <td>41</td>\n",
       "      <td>F</td>\n",
       "      <td>80</td>\n",
       "      <td>86</td>\n",
       "      <td>6</td>\n",
       "    </tr>\n",
       "    <tr>\n",
       "      <th>6</th>\n",
       "      <td>7</td>\n",
       "      <td>33</td>\n",
       "      <td>M</td>\n",
       "      <td>79</td>\n",
       "      <td>86</td>\n",
       "      <td>7</td>\n",
       "    </tr>\n",
       "    <tr>\n",
       "      <th>7</th>\n",
       "      <td>8</td>\n",
       "      <td>48</td>\n",
       "      <td>F</td>\n",
       "      <td>85</td>\n",
       "      <td>82</td>\n",
       "      <td>-3</td>\n",
       "    </tr>\n",
       "    <tr>\n",
       "      <th>8</th>\n",
       "      <td>9</td>\n",
       "      <td>26</td>\n",
       "      <td>M</td>\n",
       "      <td>76</td>\n",
       "      <td>83</td>\n",
       "      <td>7</td>\n",
       "    </tr>\n",
       "    <tr>\n",
       "      <th>9</th>\n",
       "      <td>10</td>\n",
       "      <td>39</td>\n",
       "      <td>F</td>\n",
       "      <td>83</td>\n",
       "      <td>84</td>\n",
       "      <td>1</td>\n",
       "    </tr>\n",
       "  </tbody>\n",
       "</table>\n",
       "</div>"
      ],
      "text/plain": [
       "   PatientID  Age Gender  InitialHealthScore  FinalHealthScore  \\\n",
       "0          1   45      M                  84                86   \n",
       "1          2   34      F                  78                86   \n",
       "2          3   29      M                  83                80   \n",
       "3          4   52      F                  81                86   \n",
       "4          5   37      M                  81                84   \n",
       "5          6   41      F                  80                86   \n",
       "6          7   33      M                  79                86   \n",
       "7          8   48      F                  85                82   \n",
       "8          9   26      M                  76                83   \n",
       "9         10   39      F                  83                84   \n",
       "\n",
       "   HealthScoreChange  \n",
       "0                  2  \n",
       "1                  8  \n",
       "2                 -3  \n",
       "3                  5  \n",
       "4                  3  \n",
       "5                  6  \n",
       "6                  7  \n",
       "7                 -3  \n",
       "8                  7  \n",
       "9                  1  "
      ]
     },
     "execution_count": 9,
     "metadata": {},
     "output_type": "execute_result"
    }
   ],
   "source": [
    "patient_data['HealthScoreChange'] = patient_data.FinalHealthScore-patient_data.InitialHealthScore\n",
    "# why do we do the subtraction in this order?\n",
    "patient_data"
   ]
  },
  {
   "cell_type": "code",
   "execution_count": 10,
   "id": "ab3622b5",
   "metadata": {},
   "outputs": [
    {
     "name": "stdout",
     "output_type": "stream",
     "text": [
      "   HealthScoreChange  > 0 ?\n",
      "0                  2   True\n",
      "1                  8   True\n",
      "2                 -3  False\n",
      "3                  5   True\n",
      "4                  3   True\n",
      "5                  6   True\n",
      "6                  7   True\n",
      "7                 -3  False\n",
      "8                  7   True\n",
      "9                  1   True\n"
     ]
    },
    {
     "data": {
      "text/html": [
       "<div>\n",
       "<style scoped>\n",
       "    .dataframe tbody tr th:only-of-type {\n",
       "        vertical-align: middle;\n",
       "    }\n",
       "\n",
       "    .dataframe tbody tr th {\n",
       "        vertical-align: top;\n",
       "    }\n",
       "\n",
       "    .dataframe thead th {\n",
       "        text-align: right;\n",
       "    }\n",
       "</style>\n",
       "<table border=\"1\" class=\"dataframe\">\n",
       "  <thead>\n",
       "    <tr style=\"text-align: right;\">\n",
       "      <th></th>\n",
       "      <th>HealthScoreChange</th>\n",
       "      <th>&gt; 0 ?</th>\n",
       "    </tr>\n",
       "  </thead>\n",
       "  <tbody>\n",
       "    <tr>\n",
       "      <th>0</th>\n",
       "      <td>-2</td>\n",
       "      <td>False</td>\n",
       "    </tr>\n",
       "    <tr>\n",
       "      <th>1</th>\n",
       "      <td>-8</td>\n",
       "      <td>False</td>\n",
       "    </tr>\n",
       "    <tr>\n",
       "      <th>2</th>\n",
       "      <td>3</td>\n",
       "      <td>False</td>\n",
       "    </tr>\n",
       "    <tr>\n",
       "      <th>3</th>\n",
       "      <td>-5</td>\n",
       "      <td>False</td>\n",
       "    </tr>\n",
       "    <tr>\n",
       "      <th>4</th>\n",
       "      <td>3</td>\n",
       "      <td>True</td>\n",
       "    </tr>\n",
       "    <tr>\n",
       "      <th>5</th>\n",
       "      <td>-6</td>\n",
       "      <td>False</td>\n",
       "    </tr>\n",
       "    <tr>\n",
       "      <th>6</th>\n",
       "      <td>7</td>\n",
       "      <td>True</td>\n",
       "    </tr>\n",
       "    <tr>\n",
       "      <th>7</th>\n",
       "      <td>3</td>\n",
       "      <td>False</td>\n",
       "    </tr>\n",
       "    <tr>\n",
       "      <th>8</th>\n",
       "      <td>7</td>\n",
       "      <td>True</td>\n",
       "    </tr>\n",
       "    <tr>\n",
       "      <th>9</th>\n",
       "      <td>-1</td>\n",
       "      <td>False</td>\n",
       "    </tr>\n",
       "  </tbody>\n",
       "</table>\n",
       "</div>"
      ],
      "text/plain": [
       "   HealthScoreChange  > 0 ?\n",
       "0                 -2  False\n",
       "1                 -8  False\n",
       "2                  3  False\n",
       "3                 -5  False\n",
       "4                  3   True\n",
       "5                 -6  False\n",
       "6                  7   True\n",
       "7                  3  False\n",
       "8                  7   True\n",
       "9                 -1  False"
      ]
     },
     "execution_count": 10,
     "metadata": {},
     "output_type": "execute_result"
    }
   ],
   "source": [
    "print(pd.DataFrame({'HealthScoreChange': patient_data['HealthScoreChange'],\n",
    "                    '> 0 ?': patient_data['HealthScoreChange']>0}))\n",
    "\n",
    "random_difference_sign = np.random.choice([-1, 1], size=len(patient_data))\n",
    "pd.DataFrame({'HealthScoreChange': random_difference_sign*patient_data['HealthScoreChange'].abs(),\n",
    "              '> 0 ?': (random_difference_sign*patient_data['HealthScoreChange'])>0})"
   ]
  },
  {
   "cell_type": "code",
   "execution_count": 15,
   "id": "470c02df",
   "metadata": {},
   "outputs": [],
   "source": [
    "np.random.seed(1)  # make simulation reproducible\n",
    "number_of_simulations = 10000  # experiment with this... what does this do?\n",
    "n_size = len(patient_data)  # 10\n",
    "IncreaseProportionSimulations_underH0random = np.zeros(number_of_simulations)\n",
    "\n",
    "# generate \"random improvement\" proportions assuming H0 (vaccine has no average effect) is true \n",
    "# meaning that the \"before and after\" differences are positive or negative at \"random\"\n",
    "for i in range(number_of_simulations):\n",
    "    \n",
    "    # why is this equivalent to the suggested idea above?\n",
    "    random_improvement = np.random.choice([0,1], size=len(patient_data), replace=True)  # <<< `replace=True` ^^^\n",
    "\n",
    "    # why is .mean() a proportion? \n",
    "    IncreaseProportionSimulations_underH0random[i] = random_improvement.mean()\n",
    "    # why is this the statistic we're interested in? Hint: next section..."
   ]
  },
  {
   "cell_type": "code",
   "execution_count": 14,
   "id": "c62d89bd",
   "metadata": {},
   "outputs": [
    {
     "name": "stdout",
     "output_type": "stream",
     "text": [
      "Number of Simulations: 10000\n",
      "\n",
      "Number of simulated test statistics (under H0)\n",
      "that are \"as or more extreme\" than the observed test statistic: 565\n",
      "\n",
      "p-value\n",
      "(= simulations \"as or more extreme\" / total simulations): 0.0565\n"
     ]
    }
   ],
   "source": [
    "observed_test_statistic = (patient_data.HealthScoreChange > 0).mean()\n",
    "simulated_test_statistics = IncreaseProportionSimulations_underH0random\n",
    "\n",
    "# For a one-tailed test, we want to check if the simulated test statistics are \n",
    "# greater than or equal to the observed test statistic\n",
    "SimTestStats_as_or_more_extreme_than_ObsTestStat = \\\n",
    "    simulated_test_statistics >= observed_test_statistic\n",
    "\n",
    "# Calculate p-value for a one-tailed test\n",
    "p_value = SimTestStats_as_or_more_extreme_than_ObsTestStat.sum() / number_of_simulations\n",
    "\n",
    "print(\"Number of Simulations: \", number_of_simulations, \"\\n\\n\",\n",
    "      \"Number of simulated test statistics (under H0)\\n\",\n",
    "      'that are \"as or more extreme\" than the observed test statistic: ',\n",
    "      SimTestStats_as_or_more_extreme_than_ObsTestStat.sum(), \"\\n\\n\",\n",
    "      'p-value\\n(= simulations \"as or more extreme\" / total simulations): ', p_value, sep=\"\")\n"
   ]
  },
  {
   "cell_type": "markdown",
   "id": "ba132c04",
   "metadata": {},
   "source": [
    "https://chatgpt.com/share/670cbbc6-3f24-8010-b7b9-05590ccb9f98"
   ]
  },
  {
   "cell_type": "markdown",
   "id": "e42654ca",
   "metadata": {},
   "source": [
    "Complete the following assignment.\n",
    "Consider organizing your report within the following outline template.\n",
    "Problem Introduction\n",
    "Relationship between this experiment and the original with Fisher and Bristol\n",
    "Statements of the Null Hypothesis and Alternative hypothesis\n",
    "Quantitative Analysis\n",
    "Methodology Code and Explanations\n",
    "(if needed/optional) Supporting Visualizations\n",
    "Findings and Discussion\n",
    "Conclusion regarding the Null Hypothesis\n",
    "Further Instructions:¶"
   ]
  },
  {
   "cell_type": "markdown",
   "id": "25657261",
   "metadata": {},
   "source": [
    "Problem Introduction: The purpose of both experiments is to find out whether a person can distinguish the order of milk and tea. And Fisher and us both take the a sample to analyze the population parameter. However, Fisher's experiment can be more personalized.\n",
    "We made a Null Hypothesis that a person cannot tell the order of milk and tea. $H_0:p=0.5$.\n",
    "Our alternative hypothesis is: $H_a:p\\neq 0.5$, which indicates a person can tell the order of milk and tea."
   ]
  },
  {
   "cell_type": "code",
   "execution_count": 19,
   "id": "3907cc61",
   "metadata": {},
   "outputs": [],
   "source": [
    "import numpy as np\n",
    "import pandas as pd\n",
    "import plotly.express as px\n",
    "\n",
    "population_parameter_value_under_H0= 0.5\n",
    "test_statistic=49/80\n",
    "np.random.seed(1)\n",
    "number_of_simulation=10000\n",
    "n_size=80\n",
    "IncreaseProportionSimulation_underH0random = np.zeros(number_of_simulation)\n",
    "for i in range(number_of_simulation):\n",
    "    random_improvement=np.random.choice([0,1], size=n_size, replace= True)\n",
    "    IncreaseProportionSimulation_underH0random[i]=random_improvement.mean()\n"
   ]
  },
  {
   "cell_type": "code",
   "execution_count": 20,
   "id": "f2ddd7be",
   "metadata": {},
   "outputs": [
    {
     "data": {
      "text/plain": [
       "0.0439"
      ]
     },
     "execution_count": 20,
     "metadata": {},
     "output_type": "execute_result"
    }
   ],
   "source": [
    "simulated_Stat=IncreaseProportionSimulation_underH0random\n",
    "simulatedstats_as_or_more_extreme_than_observationstat = \\\n",
    "    abs(simulated_Stat - population_parameter_value_under_H0)>=\\\n",
    "    abs(test_statistic - population_parameter_value_under_H0)\n",
    "simulatedstats_as_or_more_extreme_than_observationstat.sum()/number_of_simulation"
   ]
  },
  {
   "cell_type": "code",
   "execution_count": 25,
   "id": "9adc1331",
   "metadata": {},
   "outputs": [
    {
     "data": {
      "image/png": "[encoded data removed]"
     },
     "metadata": {},
     "output_type": "display_data"
    }
   ],
   "source": [
    "fig=px.histogram(pd.DataFrame({'x':IncreaseProportionSimulation_underH0random}),x='x')\n",
    "fig.show(renderer='png')"
   ]
  },
  {
   "cell_type": "markdown",
   "id": "9698a1d6",
   "metadata": {},
   "source": [
    "Conclusion: Since  0.05≥𝑝>0.01, so we have moderate evidence against the null hypothesis, so we can reject Null hypothesis. We can say that people can distinguish the order of milk and tea."
   ]
  },
  {
   "cell_type": "markdown",
   "id": "97cd4e89",
   "metadata": {},
   "source": [
    "9: Mostly"
   ]
  },
  {
   "cell_type": "markdown",
   "id": "004e5bbd",
   "metadata": {},
   "source": [
    "https://chatgpt.com/share/670cbbc6-3f24-8010-b7b9-05590ccb9f98"
   ]
  },
  {
   "cell_type": "code",
   "execution_count": null,
   "id": "53603e53",
   "metadata": {},
   "outputs": [],
   "source": []
  },
  {
   "cell_type": "code",
   "execution_count": null,
   "id": "bef3a2e1",
   "metadata": {},
   "outputs": [],
   "source": []
  },
  {
   "cell_type": "code",
   "execution_count": null,
   "id": "9485f208",
   "metadata": {},
   "outputs": [],
   "source": []
  },
  {
   "cell_type": "code",
   "execution_count": null,
   "id": "aa3b23a8",
   "metadata": {},
   "outputs": [],
   "source": []
  },
  {
   "cell_type": "code",
   "execution_count": null,
   "id": "cfe15c2d",
   "metadata": {},
   "outputs": [],
   "source": []
  },
  {
   "cell_type": "code",
   "execution_count": null,
   "id": "81a16f5a",
   "metadata": {},
   "outputs": [],
   "source": []
  }
 ],
 "metadata": {
  "kernelspec": {
   "display_name": "Python 3 (ipykernel)",
   "language": "python",
   "name": "python3"
  },
  "language_info": {
   "codemirror_mode": {
    "name": "ipython",
    "version": 3
   },
   "file_extension": ".py",
   "mimetype": "text/x-python",
   "name": "python",
   "nbconvert_exporter": "python",
   "pygments_lexer": "ipython3",
   "version": "3.11.6"
  }
 },
 "nbformat": 4,
 "nbformat_minor": 5
}
