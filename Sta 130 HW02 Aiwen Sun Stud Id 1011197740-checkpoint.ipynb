{
 "cells": [
  {
   "cell_type": "markdown",
   "id": "e0aa3363",
   "metadata": {},
   "source": [
    "1. Begin (or restart) part \"3(a)\" of the TUT Demo and interact with a ChatBot to make sure you understand how each part the Monte Hall problem code above works\n"
   ]
  },
  {
   "cell_type": "markdown",
   "id": "ffe86730",
   "metadata": {},
   "source": [
    "https://chatgpt.com/share/66eb540a-92cc-8010-906a-536a3de3ce35"
   ]
  },
  {
   "cell_type": "markdown",
   "id": "4061616a",
   "metadata": {},
   "source": [
    "Summary:You shared a Monty Hall simulation code and requested an explanation. I provided a step-by-step breakdown of how the code works, explaining key elements like np.random.choice() for random selection of doors and append() to modify lists. The simulation models the Monty Hall problem with 100,000 iterations, using the \"always swap\" strategy, which statistically increases the chances of winning to 2/3.\n",
    "\n",
    "You also asked for a definition of Python’s append() method, which I explained as a function that adds items to the end of a list."
   ]
  },
  {
   "cell_type": "markdown",
   "id": "a354ff1c",
   "metadata": {},
   "source": [
    "2. Extend your ChatBot sessions to now address part \"3(b)\" of the TUT Demo and interact with your ChatBot to see if it can suggest a simpler, more streamlined way to code up this for loop simulation so the process is more clear and easier to understand; then, describe any preferences you have in terms of readibility or explainability between the original code and the code improvements suggested by the ChatBot\n",
    " "
   ]
  },
  {
   "cell_type": "markdown",
   "id": "7332e731",
   "metadata": {},
   "source": [
    "summary:In this session, you asked for an improved, streamlined version of the Monty Hall simulation code. I provided a cleaner, more concise version that uses list comprehensions to simplify door removal and switching logic. The code now randomizes the player's initial choice and makes the switching process clearer. This version is easier to understand and explain, with the same core logic as the original simulation."
   ]
  },
  {
   "cell_type": "markdown",
   "id": "3c60d3f0",
   "metadata": {},
   "source": [
    "https://chatgpt.com/share/66eb540a-92cc-8010-906a-536a3de3ce35"
   ]
  },
  {
   "cell_type": "markdown",
   "id": "3784c315",
   "metadata": {
    "slideshow": {
     "slide_type": "slide"
    }
   },
   "source": [
    "I prefer the improved code given by chatbot. The original code uses several rows to classify goat_reveal_door, my_choice_door and secret_winning_door. However, as a beginner of programing, it is not easy for me to remember what happened in every previous row and connect them together. The new code directly filter out doors instead of using multiple remove() calls. This makes the code cleaner and more readable."
   ]
  },
  {
   "cell_type": "markdown",
   "id": "064ca1e1",
   "metadata": {},
   "source": [
    "3. Submit your preferred version of the Monty Hall problem that is verified to be running and working with a final printed output of the code; then, add code comments explaining the purpose of each line of the code\n"
   ]
  },
  {
   "cell_type": "code",
   "execution_count": 4,
   "id": "7b15e8ee",
   "metadata": {},
   "outputs": [
    {
     "name": "stdout",
     "output_type": "stream",
     "text": [
      "0.66637\n"
     ]
    }
   ],
   "source": [
    "import numpy as np\n",
    "\n",
    "reps = 100000  # Number of simulations\n",
    "wins = 0       # Counter for wins\n",
    "\n",
    "for _ in range(reps):               # a loop\n",
    "    doors = [1, 2, 3]               # List of doors\n",
    "    winning_door = np.random.choice(doors)  # Randomly assign the winning door\n",
    "    initial_choice = np.random.choice(doors)  # Player's initial choice\n",
    "    \n",
    "    # Monty reveals a goat door that is not the player's initial choice or the winning door\n",
    "    remaining_doors = [door for door in doors if door != initial_choice and door != winning_door]# find out the revealed goat door\n",
    "    revealed_goat = np.random.choice(remaining_doors)\n",
    "\n",
    "    # Player always switches to the other remaining door\n",
    "    switch_choice = [door for door in doors if door != initial_choice and door != revealed_goat][0]\n",
    "    \n",
    "    # Check if the switch results in a win\n",
    "    if switch_choice == winning_door:\n",
    "        wins += 1\n",
    "\n",
    "# Calculate the win percentage for switching\n",
    "win_percentage = wins / reps\n",
    "print(win_percentage)\n"
   ]
  },
  {
   "cell_type": "markdown",
   "id": "1355617e",
   "metadata": {},
   "source": [
    "Summary:In this session, you requested an explanation of the for in loop construct in Python. I explained that the for loop iterates over elements of a sequence, with in used to specify the sequence being iterated. I provided examples to illustrate how the for in loop works with lists, strings, and ranges."
   ]
  },
  {
   "cell_type": "markdown",
   "id": "0c600133",
   "metadata": {},
   "source": [
    "https://chatgpt.com/share/66eb540a-92cc-8010-906a-536a3de3ce35"
   ]
  },
  {
   "cell_type": "markdown",
   "id": "d2cf75d4",
   "metadata": {},
   "source": [
    "4. Watch the embedded video tutorial on Markov chains in the next Jupyter cell below to understand their application and relevance for ChatBots; then, after watching the video, start a new ChatBot session by prompting that you have code that creates a \"Markovian ChatBot\"; show it the first version of the \"Markovian ChatBot code\" below; and interact with the ChatBot session to make sure you understand how the original first version of the \"Markovian ChatBot code\" works"
   ]
  },
  {
   "cell_type": "markdown",
   "id": "132e3efd",
   "metadata": {},
   "source": [
    "Summary:Markovian Chatbot Code:\n",
    "\n",
    "Original Code: Uses a dictionary to count occurrences of words and their following words. It helps model word sequences based on single-word transitions.\n",
    "Extended Version: Builds on the original by considering bigrams (pairs of consecutive words). It uses dictionaries to track the frequency of each bigram and the words that follow them.\n",
    "enumerate() Function:\n",
    "\n",
    "Allows iteration over an iterable while keeping track of the index of each item.\n",
    "Takes an iterable and an optional start parameter to specify the starting index.\n",
    "Bigram Creation:\n",
    "\n",
    "Combines the current word with the next word (e.g., 'hello' and 'world' become 'hello world').\n",
    "Updates a dictionary with the frequency of each bigram.\n",
    "words[i+1]:\n",
    "\n",
    "Accesses the element immediately after the current index i in the list words.\n",
    "Used to retrieve the next word in a sequence, which is useful for creating bigrams."
   ]
  },
  {
   "cell_type": "markdown",
   "id": "e82e29fc",
   "metadata": {},
   "source": [
    "https://chatgpt.com/share/66eb7184-4db4-8010-83bd-b9e370d1b9b6"
   ]
  },
  {
   "cell_type": "markdown",
   "id": "49466877",
   "metadata": {},
   "source": [
    "5. Recreate (or resume) the previous ChatBot session from question \"4\" above, and now prompt the ChatBot session that you have a couple extensions of the code to show it, and then show it each of the extentions of the \"Markovian ChatBot code\" below in turn"
   ]
  },
  {
   "cell_type": "markdown",
   "id": "eb5dc0b5",
   "metadata": {},
   "source": [
    "Summary:Markovian Chatbot Extensions:\n",
    "\n",
    "Extension #1: Builds on the original Markovian model to track bigrams (pairs of consecutive words). It counts occurrences of each bigram and the words that follow these bigrams using two defaultdicts.\n",
    "Extension #2: Introduces an additional layer of context based on characters from an external dataset. It uses a deeply nested defaultdict to track bigrams and their subsequent words, categorized by character. The Counter is used to preprocess character data, and the nested dictionary structure allows for more detailed data tracking.\n",
    "Code Components:\n",
    "\n",
    "word_used2 and next_word2: Track bigram frequencies and subsequent words in Extension #1.\n",
    "characters: Processes external dataset text to create character counts in Extension #2.\n",
    "word_used2C and next_word2C: Use a nested dictionary to track bigrams and subsequent words with character context in Extension #2."
   ]
  },
  {
   "cell_type": "markdown",
   "id": "894a09fd",
   "metadata": {},
   "source": [
    "https://chatgpt.com/share/66eb7184-4db4-8010-83bd-b9e370d1b9b6"
   ]
  },
  {
   "cell_type": "markdown",
   "id": "fdf4a730",
   "metadata": {},
   "source": [
    "6. Report on your experience interacting with ChatBots to understand the Monte Hall problem and \"Markovian ChatBot\" code"
   ]
  },
  {
   "cell_type": "markdown",
   "id": "73a57ff6",
   "metadata": {},
   "source": [
    "1.Discuss how quickly the ChatBot was able to be helpful for each of the above questions, and if so, how?"
   ]
  },
  {
   "cell_type": "markdown",
   "id": "cbf929eb",
   "metadata": {},
   "source": [
    "When I tried to understand Monte Hall problem and Markovian ChatBot problems, ChatBot did a great favor. It can analyze the codes row by row once I give the prompt. What is more, when meeting the new python methods i don't know such as enumertate() and append(), I just ask ChatBot directly, usually I will get the answer in one second, and ChatBot even gives me more example to study. "
   ]
  },
  {
   "cell_type": "markdown",
   "id": "cf4a5801",
   "metadata": {},
   "source": [
    "2.Discuss whether or not interacting with ChatBot to try to figure things out was frustrating or unhelpful, and if so, how?"
   ]
  },
  {
   "cell_type": "raw",
   "id": "01a49bb2",
   "metadata": {
    "slideshow": {
     "slide_type": "slide"
    }
   },
   "source": [
    "I think interacting with ChatBot can be frustrating sometimes, but chating the it is definitely helpful. I learned a lot of knowledge by using ChatBot, especially knowledge about programming language. It is a good assistant to help me absorb what I learned in the class. However, ChatBot is not a real person, it can't really 'chat' with us, so asking them to give some funny examples seems to be unrealistic. "
   ]
  },
  {
   "cell_type": "markdown",
   "id": "f9cfc683",
   "metadata": {},
   "source": [
    "3.Based on your experiences to date (e.g., including using ChatBots to troubleshoot coding errors in the previous homework), provide an overall assessment evaluating the usefulness of ChatBots as tools to help you understand code"
   ]
  },
  {
   "cell_type": "markdown",
   "id": "48b289dc",
   "metadata": {},
   "source": [
    "ChatBot is a useful and efficient tool to help us toubleshoot coding errors, improve original codes, understand complex codes, and summarize the code methods we learned. However, it also has its limit. The accuracy of the answer given by ChatBot depends largely on the prompt. If you give it a vague prompt, the answers generated by ChatBot is likely to be wrong. So it's better not to rely entirely on Chatbots either"
   ]
  },
  {
   "cell_type": "markdown",
   "id": "4c5e1c7e",
   "metadata": {},
   "source": [
    "7. Reflect on your experience interacting with ChatBot and describe how your perception of AI-driven assistance tools in the context of learning coding, statistics, and data science has been evolving (or not) since joining the course\n"
   ]
  },
  {
   "cell_type": "markdown",
   "id": "1cbb77f0",
   "metadata": {},
   "source": [
    "After using ChatBot to help me study programming, I was surprised by its wisdom and efficiency. Applying AI-driven assistance in coding, statistics, and data science courses do change teachers' and students' traditional ways of teaching and learning. For students, ai acts as our assistant, it finds out our coding errors, explain how complex codes work, introduce new coding methods, and answer our questions anytime. Before introducing AI-driven assistance to class, if students have problems, usually they seach on google or ask teachers. However, the message given by google is messy and sometimes unreliable, and teachers' energy is limited. Contrast to google and teacher, Chatbot gives more accurate messages and never feels tired, students can get answers anytime. \n",
    " \n",
    " For teachers, ChatBots also help them mark students' assignments, gives examples in class, and collect students' study process. Compared to traditional teaching ways, using ai-driven assistance saves teachers' time and improve the teaching efficiency in class. \n",
    " \n",
    " However, the introducing of ChatBot also leads to problems. CharBot could lead to arguments about copyright. For example, the code you post on ChatBot could be used in other place without your permission. Additional, some students use ChatBot to finish homework, they rely on AI to solve everything for them, so they learn nothing eventually.\n",
    " \n",
    " In conclusion, the introducing of AI-driven assistance both has its pros and cons and it change the traditional education. Based on my studying experience, I do think ChatBots could be really helpful in class. "
   ]
  },
  {
   "cell_type": "markdown",
   "id": "03c2046e",
   "metadata": {},
   "source": [
    "8. ChatBots consume text data available on the web or platforms, and thus represents a new way to \"search consensensus\" that condenses and summarizes mainstream human thought\n",
    "\n",
    "Start a new ChatBot session and discuss the relevance of learning and adaptability, communication, coding, and statistics and data analysis as skills in the modern world, especially with respect to career opportunities (particularly in the context of the data science industry)\n",
    "\n",
    "\n",
    "See if ChatBot thinks you could be a statistician or data scientist without coding or doing data analysis, and then transition your ChatBot conversation into a career exploration discussion, using the ChatBot to identify the skills that might be the most valuable for a career that you're interested\n",
    "\n",
    "\n",
    "Ask for a summary of this ChatBot session and paste it into your homework notebook (including link(s) to chat log histories if you're using ChatBot)\n",
    "\n",
    "\n",
    "Paraphrase the assessments and conclusions of your conversation in the form of a reflection on your current thoughts regarding your potential future career(s) and how you can go about building the skills you need to pursue it\n",
    "\n",
    "\n",
    "Give your thoughts regarding the helpfulness or limitations of your conversation with a ChatBot, and describe the next steps you would take to pursue this conversation further if you felt the information the ChatBot provides was somewhat high level and general, and perhaps lacked the depth and detailed knowledge of a dedicated subject matter expert who had really take the time to understand the ins and outs of the industry and career path in question.\n",
    "\n",
    "\n"
   ]
  },
  {
   "cell_type": "markdown",
   "id": "4883708d",
   "metadata": {},
   "source": [
    "We discussed various careers that align with your double major in math and statistics, highlighting roles such as data scientist, actuary, quantitative analyst, biostatistician, statistician, financial analyst, and college professor. These careers leverage your analytical and quantitative skills, offering opportunities in industries like tech, finance, healthcare, and academia. You also inquired about the skills necessary to become a college professor, which include expertise in your field, research, teaching, communication, and time management.\n"
   ]
  },
  {
   "cell_type": "markdown",
   "id": "cdc208f5",
   "metadata": {},
   "source": [
    "https://chatgpt.com/share/66eba804-3fc8-8010-ad6b-8ab20819f31a"
   ]
  },
  {
   "cell_type": "markdown",
   "id": "d740d0c8",
   "metadata": {},
   "source": [
    "My future career could be relate the math and statistic. So now I should make some effort to study programming skills including python and C++. And what is more, I should also focus on training problem-solving, and quantitative skills."
   ]
  },
  {
   "cell_type": "markdown",
   "id": "9114d9a6",
   "metadata": {},
   "source": [
    "Talking with Chatbots gives me some initial career orientation. However, there are still some limitations. For example, Chatbots doesn't know well about current employment market. Because the employment environment changes with the global situation, the information given by ai is not accurate. Additionally, with the development of environment, there will be more new careers appearing in the future. "
   ]
  },
  {
   "cell_type": "markdown",
   "id": "586dba7f",
   "metadata": {},
   "source": [
    "9, Somewhat"
   ]
  }
 ],
 "metadata": {
  "kernelspec": {
   "display_name": "Python 3 (ipykernel)",
   "language": "python",
   "name": "python3"
  },
  "language_info": {
   "codemirror_mode": {
    "name": "ipython",
    "version": 3
   },
   "file_extension": ".py",
   "mimetype": "text/x-python",
   "name": "python",
   "nbconvert_exporter": "python",
   "pygments_lexer": "ipython3",
   "version": "3.11.6"
  }
 },
 "nbformat": 4,
 "nbformat_minor": 5
}
