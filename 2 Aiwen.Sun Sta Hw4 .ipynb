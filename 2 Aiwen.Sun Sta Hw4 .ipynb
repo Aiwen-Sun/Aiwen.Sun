{
 "cells": [
  {
   "cell_type": "markdown",
   "id": "ea21ae1a",
   "metadata": {},
   "source": [
    "1. The \"Pre-lecture\" video (above) mentioned the \"standard error of the mean\" as being the \"standard deviation\" of the distribution bootstrapped means. What is the difference between the \"standard error of the mean\" and the \"standard deviation\" of the original data? What distinct ideas do each of these capture? Explain this concisely in your own words.\n"
   ]
  },
  {
   "cell_type": "markdown",
   "id": "9c550e8f",
   "metadata": {},
   "source": [
    "The standard error of the mean is the standard deviation of the sample means if you repeatedly sampled from the population, and it reflects how much the sample mean is expected to vary from the true population mean.\n",
    "\n",
    "On the other hand, the standard deviation of the original data measures the spread of the individual data points around the sample mean. It captures the variability within one single sample, not the variability of sample means across different samples."
   ]
  },
  {
   "cell_type": "markdown",
   "id": "1ad95745",
   "metadata": {},
   "source": [
    "2. The \"Pre-lecture\" video (above) suggested that the \"standard error of the mean\" could be used to create a confidence interval, but didn't describe exactly how to do this. How can we use the \"standard error of the mean\" to create a 95% confidence interval which \"covers 95% of the bootstrapped sample means\"? Explain this concisely in your own words."
   ]
  },
  {
   "cell_type": "markdown",
   "id": "713d8943",
   "metadata": {},
   "source": [
    "To create a condidence interval: the first step is to calculate the standard error of the mean.The formula of calculating standard error of the mean is standard deviation divided by square root of sample size. Then, for a 95% confidence level, use the critical value from the standard normal distribution (Z-distribution) which is approximately 2. The final step is calculating the confidenct range interval:CI=Sample Mean±(2×SEM)."
   ]
  },
  {
   "cell_type": "markdown",
   "id": "45502c5f",
   "metadata": {},
   "source": [
    "3. Creating the \"sample mean plus and minus about 2 times the standard error\" confidence interval addressed in the previous problem should indeed cover approximately 95% of the bootstrapped sample means. Alternatively, how do we create a 95% bootstrapped confidence interval using the bootstrapped means (without using their standard deviation to estimate the standard error of the mean)? Explain this concisely in your own words."
   ]
  },
  {
   "cell_type": "markdown",
   "id": "c89ecedf",
   "metadata": {},
   "source": [
    "Firstly, generate a bootstrapped sample by resampling the original datas many times(reolacement is allowed), and then, calculate the mean of each resample. Secondly, form a histogram based on the resample means you collected.\n",
    "Finnally, find the 2.5th percentile (lower bound) and the 97.5th percentile (upper bound) of the sorted bootstrapped means.The interval between these percentiles gives the 95% bootstrapped confidence interval, capturing the range within which 95% of the bootstrapped means lie. "
   ]
  },
  {
   "cell_type": "markdown",
   "id": "2b83d1df",
   "metadata": {},
   "source": [
    "4. The \"Pre-lecture\" video (above) mentioned that bootstrap confidence intervals could apply to other statistics of the sample, such as the \"median\". Work with a ChatBot to create code to produce a 95% bootstrap confidence interval for a population mean based on a sample that you have and comment the code to demonstrate how the code can be changed to produce a 95% bootstrap confidence interval for different population parameter (other than the population mean, such as the population median)."
   ]
  },
  {
   "cell_type": "code",
   "execution_count": 1,
   "id": "825dfcff",
   "metadata": {},
   "outputs": [
    {
     "name": "stdout",
     "output_type": "stream",
     "text": [
      "95% Bootstrap Confidence Interval for the Mean: (12.7, 16.3)\n",
      "95% Bootstrap Confidence Interval for the Median: (12.0, 17.0)\n"
     ]
    }
   ],
   "source": [
    "import numpy as np\n",
    "\n",
    "# Sample data (replace with your own sample data)\n",
    "data = [12, 15, 14, 10, 18, 13, 17, 16, 11, 19]\n",
    "\n",
    "# Function to calculate bootstrap confidence interval\n",
    "def bootstrap_ci(data, num_bootstrap_samples=10000, ci_percentile=95, statistic=np.mean):\n",
    "    np.random.seed(0)  # Set seed for reproducibility\n",
    "    bootstrap_samples = np.random.choice(data, size=(num_bootstrap_samples, len(data)), replace=True)\n",
    "    \n",
    "    # Calculate the statistic for each bootstrap sample (default: mean)\n",
    "    bootstrap_statistics = np.apply_along_axis(statistic, 1, bootstrap_samples)\n",
    "    \n",
    "    # Calculate the confidence interval\n",
    "    lower_bound = np.percentile(bootstrap_statistics, (100 - ci_percentile) / 2)\n",
    "    upper_bound = np.percentile(bootstrap_statistics, 100 - (100 - ci_percentile) / 2)\n",
    "    \n",
    "    return lower_bound, upper_bound\n",
    "\n",
    "# Calculate 95% bootstrap confidence interval for the mean\n",
    "mean_ci = bootstrap_ci(data)\n",
    "print(f\"95% Bootstrap Confidence Interval for the Mean: {mean_ci}\")\n",
    "\n",
    "# To calculate 95% bootstrap confidence interval for the median, change 'np.mean' to 'np.median':\n",
    "median_ci = bootstrap_ci(data, statistic=np.median)\n",
    "print(f\"95% Bootstrap Confidence Interval for the Median: {median_ci}\")\n",
    "\n",
    "# You can similarly calculate confidence intervals for other statistics, e.g., np.std for the standard deviation\n"
   ]
  },
  {
   "cell_type": "markdown",
   "id": "5ff62277",
   "metadata": {},
   "source": [
    "Summary:In our chat, we discussed several statistical concepts related to confidence intervals and bootstrapping:\n",
    "\n",
    "The standard error of the mean (SEM) and how it differs from the standard deviation of the original data.\n",
    "How to use the SEM to calculate a 95% confidence interval for the mean, using the formula\n",
    "CI=mean±1.96×SEM.\n",
    "An alternative method for creating a 95% bootstrap confidence interval by resampling and using percentiles (without relying on SEM).\n",
    "I provided Python code to calculate a 95% bootstrap confidence interval for a population mean and explained how to modify it for different statistics, like the median.\n",
    "Finally, I explained how the use of the 2.5th and 97.5th percentiles of the bootstrap distribution creates the confidence interval."
   ]
  },
  {
   "cell_type": "markdown",
   "id": "8005bf5d",
   "metadata": {},
   "source": [
    "https://chatgpt.com/share/66fdbffb-8744-8010-b55b-5b1bc23829fb"
   ]
  },
  {
   "cell_type": "markdown",
   "id": "6d50ecc9",
   "metadata": {},
   "source": [
    "5. The previous question addresses making a confidence interval for a population parameter based on a sample statistic. Why do we need to distinguish between the role of the popualation parameter and the sample sample statistic when it comes to confidence intervals? Explain this concisely in your own words.\n"
   ]
  },
  {
   "cell_type": "markdown",
   "id": "053e1a15",
   "metadata": {},
   "source": [
    "Because the population parameters is unknown at the most of time, but the sample statistic is fixed, so we can use sample statistic to estimate the interval of the population parameter. Confidence intervals use the sample statistic to provide a range of plausible values for the population parameter, acknowledging the uncertainty that comes from sampling."
   ]
  },
  {
   "cell_type": "markdown",
   "id": "50c3082c",
   "metadata": {},
   "source": [
    "6. Provide written answers explaining the answers to the following questions in an informal manner of a conversation with a friend with little experience with statistics.\n",
    "1.What is the process of bootstrapping?\n",
    "2.What is the main purpose of bootstrapping?\n",
    "3.If you had a (hypothesized) guess about what the average of a population was, and you had a sample of size n from that population, how could you use bootstrapping to assess whether or not your (hypothesized) guess might be plausible?"
   ]
  },
  {
   "cell_type": "markdown",
   "id": "030505a9",
   "metadata": {},
   "source": [
    "1.To create a bootstrapping, firstly you need to have a sample, and you randomly pick up data points many times from your oringinal sample (repeat is allowed). Finnally, using these resamples to form a histogram. If you want to go further, find the 2.5th percentile (lower bound) and the 97.5th percentile (upper bound) of a particular statistic.The interval between these percentiles gives the 95% bootstrapped confidence interval, capturing the range within which 95% of the particular statistic lie. "
   ]
  },
  {
   "cell_type": "markdown",
   "id": "0f4fbffa",
   "metadata": {},
   "source": [
    "2.The main purpose of bootstrapping is to estimate the sampling distribution of a statistic, such as the mean or standard error, by resampling from the observed data. Compared to other distribution methods, bootstrapped distribution avoids the waste of time and money."
   ]
  },
  {
   "cell_type": "markdown",
   "id": "5e05026a",
   "metadata": {},
   "source": [
    "3.To check you hypothesized, you can compare your hypothesized mean to the bootstrap distribution. If your hypothesized mean falls within a confidence interval (usually choose 95%) of the bootstrap means, it suggests that the hypothesized value is plausible. If it's far outside this interval, it indicates that the hypothesized mean is unlikely given the sample data."
   ]
  },
  {
   "cell_type": "markdown",
   "id": "15afc24b",
   "metadata": {},
   "source": [
    "7. The \"Pre-lecture\" video (above) introduced hypothesis testing by saying that \"the confidence interval covers zero, so we cannot reject the hypothesis that the drug is [on average] not doing anything\". This conclusion could be referred to as \"failing to reject the null hypothesis\", where the term \"null\" refers to the concept of \"no effect [on average]\". Why does a confidence interval overlapping zero \"fail to reject the null hypothesis\" when the observed sample mean statistic itself is not zero? Alternatively, what would lead to the opposite conclusion in this context; namely, instead choosing \"to reject the null hypothesis\"? Explain the answers to these questions concisely in your own words."
   ]
  },
  {
   "cell_type": "markdown",
   "id": "c44c0b78",
   "metadata": {},
   "source": [
    "Because sample has strong uncertainty, so the observed sample mean is not always consist with the average sample mean. And through resampling and calculation, we find a confidence interval of average sample mean, and this interval is more reliable for us to predict the range of average sample mean. So when 0 is in the inverval, we fail to reject the Null hypothesis.\n",
    "\n",
    "When null value is not included in the confidence interval, we can reject the null hypothesis."
   ]
  },
  {
   "cell_type": "markdown",
   "id": "7fe6dd97",
   "metadata": {},
   "source": [
    "Summary:Bootstrapping: A statistical method that involves resampling from your data with replacement to estimate the distribution of a statistic (e.g., mean) and make inferences about the population.\n",
    "Main purpose of bootstrapping: To estimate the variability and uncertainty of a statistic, particularly when the population distribution is unknown or assumptions about it are difficult to make.\n",
    "Using bootstrapping for a hypothesized mean: If you have a hypothesized population mean, you can resample your data, calculate bootstrap sample means, and check if the hypothesized mean falls within a confidence interval of the bootstrap means. If it does, it supports the plausibility of your guess."
   ]
  },
  {
   "cell_type": "markdown",
   "id": "c86a1f7e",
   "metadata": {},
   "source": [
    "https://chatgpt.com/share/66fde4c0-9658-8010-bd05-5581140c5528"
   ]
  },
  {
   "cell_type": "markdown",
   "id": "c8c38591",
   "metadata": {},
   "source": [
    "8.Vaccine Data Analysis Assignment\n",
    "Overview\n",
    "\n",
    "The company AliTech has created a new vaccine that aims to improve the health of the people who take it. Your job is to use what you have learned in the course to give evidence for whether or not the vaccine is effective.\n",
    "\n",
    "Data AliTech has released the following data.\n",
    "\n",
    "PatientID,Age,Gender,InitialHealthScore,FinalHealthScore\n",
    "1,45,M,84,86\n",
    "2,34,F,78,86\n",
    "3,29,M,83,80\n",
    "4,52,F,81,86\n",
    "5,37,M,81,84\n",
    "6,41,F,80,86\n",
    "7,33,M,79,86\n",
    "8,48,F,85,82\n",
    "9,26,M,76,83\n",
    "10,39,F,83,84\n",
    "Deliverables While you can choose how to approach this project, the most obvious path would be to use bootstrapping, follow the analysis presented in the \"Pre-lecture\" HW video (above). Nonetheless, we are primarily interested in evaluating your report relative to the following deliverables.\n",
    "\n",
    "A visual presentation giving some initial insight into the comparison of interest.\n",
    "A quantitative analysis of the data and an explanation of the method and purpose of this method.\n",
    "A conclusion regarding a null hypothesis of \"no effect\" after analyzing the data with your methodology.\n",
    "The clarity of your documentation, code, and written report.\n",
    "Consider organizing your report within the following outline template.\n",
    "\n",
    "Problem Introduction\n",
    "An explaination of the meaning of a Null Hypothesis of \"no effect\" in this context\n",
    "Data Visualization (motivating and illustrating the comparison of interest)\n",
    "Quantitative Analysis\n",
    "Methodology Code and Explanations\n",
    "Supporting Visualizations\n",
    "Findings and Discussion\n",
    "Conclusion regarding a Null Hypothesis of \"no effect\"\n",
    "Further Considerations\n",
    "Further Instructions\n",
    "\n",
    "When using random functions, you should make your analysis reproducible by using the np.random.seed() function\n",
    "Create a CSV file and read that file in with your code, but do not include the CSV file along with your submission"
   ]
  },
  {
   "cell_type": "markdown",
   "id": "90cc41bb",
   "metadata": {},
   "source": [
    "In this case, \"Null Hypothesis\" means the new vaccine has no effect on human's health."
   ]
  },
  {
   "cell_type": "code",
   "execution_count": 15,
   "id": "a62dcb24",
   "metadata": {},
   "outputs": [
    {
     "name": "stdout",
     "output_type": "stream",
     "text": [
      "   PatientID  Age Gender  InitialHealthScore  FinalHealthScore  difference\n",
      "0          1   45      M                  84                86           2\n",
      "1          2   34      F                  78                86           8\n",
      "2          3   29      M                  83                80          -3\n",
      "3          4   52      F                  81                86           5\n",
      "4          5   37      M                  81                84           3\n",
      "5          6   41      F                  80                86           6\n",
      "6          7   33      M                  79                86           7\n",
      "7          8   48      F                  85                82          -3\n",
      "8          9   26      M                  76                83           7\n",
      "9         10   39      F                  83                84           1\n"
     ]
    }
   ],
   "source": [
    "import pandas as pd\n",
    "import plotly.express as px\n",
    "import numpy as np\n",
    "data = {\n",
    "    'PatientID': [1, 2, 3, 4, 5, 6, 7, 8, 9, 10],\n",
    "    'Age': [45, 34, 29, 52, 37, 41, 33, 48, 26, 39],\n",
    "    'Gender': ['M', 'F', 'M', 'F', 'M', 'F', 'M', 'F', 'M', 'F'],\n",
    "    'InitialHealthScore': [84, 78, 83, 81, 81, 80, 79, 85, 76, 83],\n",
    "    'FinalHealthScore': [86, 86, 80, 86, 84, 86, 86, 82, 83, 84]\n",
    "}\n",
    "\n",
    "# Create DataFrame\n",
    "df = pd.DataFrame(data)\n",
    "\n",
    "# Display DataFrame\n",
    "\n",
    "df['difference']=df.FinalHealthScore-df.InitialHealthScore\n",
    "print(df)"
   ]
  },
  {
   "cell_type": "code",
   "execution_count": 1,
   "id": "270ca772",
   "metadata": {},
   "outputs": [
    {
     "ename": "NameError",
     "evalue": "name 'px' is not defined",
     "output_type": "error",
     "traceback": [
      "\u001b[0;31m---------------------------------------------------------------------------\u001b[0m",
      "\u001b[0;31mNameError\u001b[0m                                 Traceback (most recent call last)",
      "Cell \u001b[0;32mIn[1], line 1\u001b[0m\n\u001b[0;32m----> 1\u001b[0m fig\u001b[38;5;241m=\u001b[39m\u001b[43mpx\u001b[49m\u001b[38;5;241m.\u001b[39mhistogram(pd\u001b[38;5;241m.\u001b[39mDataFrame({\u001b[38;5;124m\"\u001b[39m\u001b[38;5;124mx\u001b[39m\u001b[38;5;124m\"\u001b[39m:df\u001b[38;5;241m.\u001b[39mdifference}),x\u001b[38;5;241m=\u001b[39m\u001b[38;5;124m'\u001b[39m\u001b[38;5;124mx\u001b[39m\u001b[38;5;124m'\u001b[39m)\n\u001b[1;32m      2\u001b[0m fig\u001b[38;5;241m.\u001b[39mshow(renderer\u001b[38;5;241m=\u001b[39m\u001b[38;5;124m\"\u001b[39m\u001b[38;5;124mpng\u001b[39m\u001b[38;5;124m\"\u001b[39m)\n",
      "\u001b[0;31mNameError\u001b[0m: name 'px' is not defined"
     ]
    }
   ],
   "source": [
    "\n",
    "fig = px.histogram(pd.DataFrame({\"x\":df.difference}),x='x')\n",
    "fig.show(renderer=\"png\")\n"
   ]
  },
  {
   "cell_type": "code",
   "execution_count": 19,
   "id": "d394e75e",
   "metadata": {},
   "outputs": [
    {
     "data": {
      "application/vnd.plotly.v1+json": {
       "config": {
        "plotlyServerURL": "https://plot.ly"
       },
       "data": [
        {
         "alignmentgroup": "True",
         "bingroup": "x",
         "hovertemplate": "Score Type=InitialHealthScore<br>Health Score=%{x}<br>count=%{y}<extra></extra>",
         "legendgroup": "InitialHealthScore",
         "marker": {
          "color": "#636efa",
          "opacity": 0.5,
          "pattern": {
           "shape": ""
          }
         },
         "name": "InitialHealthScore",
         "nbinsx": 10,
         "offsetgroup": "InitialHealthScore",
         "orientation": "v",
         "showlegend": true,
         "type": "histogram",
         "x": [
          84,
          78,
          83,
          81,
          81,
          80,
          79,
          85,
          76,
          83
         ],
         "xaxis": "x",
         "yaxis": "y"
        },
        {
         "alignmentgroup": "True",
         "bingroup": "x",
         "hovertemplate": "Score Type=FinalHealthScore<br>Health Score=%{x}<br>count=%{y}<extra></extra>",
         "legendgroup": "FinalHealthScore",
         "marker": {
          "color": "#EF553B",
          "opacity": 0.5,
          "pattern": {
           "shape": ""
          }
         },
         "name": "FinalHealthScore",
         "nbinsx": 10,
         "offsetgroup": "FinalHealthScore",
         "orientation": "v",
         "showlegend": true,
         "type": "histogram",
         "x": [
          86,
          86,
          80,
          86,
          84,
          86,
          86,
          82,
          83,
          84
         ],
         "xaxis": "x",
         "yaxis": "y"
        }
       ],
       "layout": {
        "barmode": "overlay",
        "legend": {
         "title": {
          "text": "Score Type"
         },
         "tracegroupgap": 0
        },
        "template": {
         "data": {
          "bar": [
           {
            "error_x": {
             "color": "#2a3f5f"
            },
            "error_y": {
             "color": "#2a3f5f"
            },
            "marker": {
             "line": {
              "color": "#E5ECF6",
              "width": 0.5
             },
             "pattern": {
              "fillmode": "overlay",
              "size": 10,
              "solidity": 0.2
             }
            },
            "type": "bar"
           }
          ],
          "barpolar": [
           {
            "marker": {
             "line": {
              "color": "#E5ECF6",
              "width": 0.5
             },
             "pattern": {
              "fillmode": "overlay",
              "size": 10,
              "solidity": 0.2
             }
            },
            "type": "barpolar"
           }
          ],
          "carpet": [
           {
            "aaxis": {
             "endlinecolor": "#2a3f5f",
             "gridcolor": "white",
             "linecolor": "white",
             "minorgridcolor": "white",
             "startlinecolor": "#2a3f5f"
            },
            "baxis": {
             "endlinecolor": "#2a3f5f",
             "gridcolor": "white",
             "linecolor": "white",
             "minorgridcolor": "white",
             "startlinecolor": "#2a3f5f"
            },
            "type": "carpet"
           }
          ],
          "choropleth": [
           {
            "colorbar": {
             "outlinewidth": 0,
             "ticks": ""
            },
            "type": "choropleth"
           }
          ],
          "contour": [
           {
            "colorbar": {
             "outlinewidth": 0,
             "ticks": ""
            },
            "colorscale": [
             [
              0,
              "#0d0887"
             ],
             [
              0.1111111111111111,
              "#46039f"
             ],
             [
              0.2222222222222222,
              "#7201a8"
             ],
             [
              0.3333333333333333,
              "#9c179e"
             ],
             [
              0.4444444444444444,
              "#bd3786"
             ],
             [
              0.5555555555555556,
              "#d8576b"
             ],
             [
              0.6666666666666666,
              "#ed7953"
             ],
             [
              0.7777777777777778,
              "#fb9f3a"
             ],
             [
              0.8888888888888888,
              "#fdca26"
             ],
             [
              1,
              "#f0f921"
             ]
            ],
            "type": "contour"
           }
          ],
          "contourcarpet": [
           {
            "colorbar": {
             "outlinewidth": 0,
             "ticks": ""
            },
            "type": "contourcarpet"
           }
          ],
          "heatmap": [
           {
            "colorbar": {
             "outlinewidth": 0,
             "ticks": ""
            },
            "colorscale": [
             [
              0,
              "#0d0887"
             ],
             [
              0.1111111111111111,
              "#46039f"
             ],
             [
              0.2222222222222222,
              "#7201a8"
             ],
             [
              0.3333333333333333,
              "#9c179e"
             ],
             [
              0.4444444444444444,
              "#bd3786"
             ],
             [
              0.5555555555555556,
              "#d8576b"
             ],
             [
              0.6666666666666666,
              "#ed7953"
             ],
             [
              0.7777777777777778,
              "#fb9f3a"
             ],
             [
              0.8888888888888888,
              "#fdca26"
             ],
             [
              1,
              "#f0f921"
             ]
            ],
            "type": "heatmap"
           }
          ],
          "heatmapgl": [
           {
            "colorbar": {
             "outlinewidth": 0,
             "ticks": ""
            },
            "colorscale": [
             [
              0,
              "#0d0887"
             ],
             [
              0.1111111111111111,
              "#46039f"
             ],
             [
              0.2222222222222222,
              "#7201a8"
             ],
             [
              0.3333333333333333,
              "#9c179e"
             ],
             [
              0.4444444444444444,
              "#bd3786"
             ],
             [
              0.5555555555555556,
              "#d8576b"
             ],
             [
              0.6666666666666666,
              "#ed7953"
             ],
             [
              0.7777777777777778,
              "#fb9f3a"
             ],
             [
              0.8888888888888888,
              "#fdca26"
             ],
             [
              1,
              "#f0f921"
             ]
            ],
            "type": "heatmapgl"
           }
          ],
          "histogram": [
           {
            "marker": {
             "pattern": {
              "fillmode": "overlay",
              "size": 10,
              "solidity": 0.2
             }
            },
            "type": "histogram"
           }
          ],
          "histogram2d": [
           {
            "colorbar": {
             "outlinewidth": 0,
             "ticks": ""
            },
            "colorscale": [
             [
              0,
              "#0d0887"
             ],
             [
              0.1111111111111111,
              "#46039f"
             ],
             [
              0.2222222222222222,
              "#7201a8"
             ],
             [
              0.3333333333333333,
              "#9c179e"
             ],
             [
              0.4444444444444444,
              "#bd3786"
             ],
             [
              0.5555555555555556,
              "#d8576b"
             ],
             [
              0.6666666666666666,
              "#ed7953"
             ],
             [
              0.7777777777777778,
              "#fb9f3a"
             ],
             [
              0.8888888888888888,
              "#fdca26"
             ],
             [
              1,
              "#f0f921"
             ]
            ],
            "type": "histogram2d"
           }
          ],
          "histogram2dcontour": [
           {
            "colorbar": {
             "outlinewidth": 0,
             "ticks": ""
            },
            "colorscale": [
             [
              0,
              "#0d0887"
             ],
             [
              0.1111111111111111,
              "#46039f"
             ],
             [
              0.2222222222222222,
              "#7201a8"
             ],
             [
              0.3333333333333333,
              "#9c179e"
             ],
             [
              0.4444444444444444,
              "#bd3786"
             ],
             [
              0.5555555555555556,
              "#d8576b"
             ],
             [
              0.6666666666666666,
              "#ed7953"
             ],
             [
              0.7777777777777778,
              "#fb9f3a"
             ],
             [
              0.8888888888888888,
              "#fdca26"
             ],
             [
              1,
              "#f0f921"
             ]
            ],
            "type": "histogram2dcontour"
           }
          ],
          "mesh3d": [
           {
            "colorbar": {
             "outlinewidth": 0,
             "ticks": ""
            },
            "type": "mesh3d"
           }
          ],
          "parcoords": [
           {
            "line": {
             "colorbar": {
              "outlinewidth": 0,
              "ticks": ""
             }
            },
            "type": "parcoords"
           }
          ],
          "pie": [
           {
            "automargin": true,
            "type": "pie"
           }
          ],
          "scatter": [
           {
            "fillpattern": {
             "fillmode": "overlay",
             "size": 10,
             "solidity": 0.2
            },
            "type": "scatter"
           }
          ],
          "scatter3d": [
           {
            "line": {
             "colorbar": {
              "outlinewidth": 0,
              "ticks": ""
             }
            },
            "marker": {
             "colorbar": {
              "outlinewidth": 0,
              "ticks": ""
             }
            },
            "type": "scatter3d"
           }
          ],
          "scattercarpet": [
           {
            "marker": {
             "colorbar": {
              "outlinewidth": 0,
              "ticks": ""
             }
            },
            "type": "scattercarpet"
           }
          ],
          "scattergeo": [
           {
            "marker": {
             "colorbar": {
              "outlinewidth": 0,
              "ticks": ""
             }
            },
            "type": "scattergeo"
           }
          ],
          "scattergl": [
           {
            "marker": {
             "colorbar": {
              "outlinewidth": 0,
              "ticks": ""
             }
            },
            "type": "scattergl"
           }
          ],
          "scattermapbox": [
           {
            "marker": {
             "colorbar": {
              "outlinewidth": 0,
              "ticks": ""
             }
            },
            "type": "scattermapbox"
           }
          ],
          "scatterpolar": [
           {
            "marker": {
             "colorbar": {
              "outlinewidth": 0,
              "ticks": ""
             }
            },
            "type": "scatterpolar"
           }
          ],
          "scatterpolargl": [
           {
            "marker": {
             "colorbar": {
              "outlinewidth": 0,
              "ticks": ""
             }
            },
            "type": "scatterpolargl"
           }
          ],
          "scatterternary": [
           {
            "marker": {
             "colorbar": {
              "outlinewidth": 0,
              "ticks": ""
             }
            },
            "type": "scatterternary"
           }
          ],
          "surface": [
           {
            "colorbar": {
             "outlinewidth": 0,
             "ticks": ""
            },
            "colorscale": [
             [
              0,
              "#0d0887"
             ],
             [
              0.1111111111111111,
              "#46039f"
             ],
             [
              0.2222222222222222,
              "#7201a8"
             ],
             [
              0.3333333333333333,
              "#9c179e"
             ],
             [
              0.4444444444444444,
              "#bd3786"
             ],
             [
              0.5555555555555556,
              "#d8576b"
             ],
             [
              0.6666666666666666,
              "#ed7953"
             ],
             [
              0.7777777777777778,
              "#fb9f3a"
             ],
             [
              0.8888888888888888,
              "#fdca26"
             ],
             [
              1,
              "#f0f921"
             ]
            ],
            "type": "surface"
           }
          ],
          "table": [
           {
            "cells": {
             "fill": {
              "color": "#EBF0F8"
             },
             "line": {
              "color": "white"
             }
            },
            "header": {
             "fill": {
              "color": "#C8D4E3"
             },
             "line": {
              "color": "white"
             }
            },
            "type": "table"
           }
          ]
         },
         "layout": {
          "annotationdefaults": {
           "arrowcolor": "#2a3f5f",
           "arrowhead": 0,
           "arrowwidth": 1
          },
          "autotypenumbers": "strict",
          "coloraxis": {
           "colorbar": {
            "outlinewidth": 0,
            "ticks": ""
           }
          },
          "colorscale": {
           "diverging": [
            [
             0,
             "#8e0152"
            ],
            [
             0.1,
             "#c51b7d"
            ],
            [
             0.2,
             "#de77ae"
            ],
            [
             0.3,
             "#f1b6da"
            ],
            [
             0.4,
             "#fde0ef"
            ],
            [
             0.5,
             "#f7f7f7"
            ],
            [
             0.6,
             "#e6f5d0"
            ],
            [
             0.7,
             "#b8e186"
            ],
            [
             0.8,
             "#7fbc41"
            ],
            [
             0.9,
             "#4d9221"
            ],
            [
             1,
             "#276419"
            ]
           ],
           "sequential": [
            [
             0,
             "#0d0887"
            ],
            [
             0.1111111111111111,
             "#46039f"
            ],
            [
             0.2222222222222222,
             "#7201a8"
            ],
            [
             0.3333333333333333,
             "#9c179e"
            ],
            [
             0.4444444444444444,
             "#bd3786"
            ],
            [
             0.5555555555555556,
             "#d8576b"
            ],
            [
             0.6666666666666666,
             "#ed7953"
            ],
            [
             0.7777777777777778,
             "#fb9f3a"
            ],
            [
             0.8888888888888888,
             "#fdca26"
            ],
            [
             1,
             "#f0f921"
            ]
           ],
           "sequentialminus": [
            [
             0,
             "#0d0887"
            ],
            [
             0.1111111111111111,
             "#46039f"
            ],
            [
             0.2222222222222222,
             "#7201a8"
            ],
            [
             0.3333333333333333,
             "#9c179e"
            ],
            [
             0.4444444444444444,
             "#bd3786"
            ],
            [
             0.5555555555555556,
             "#d8576b"
            ],
            [
             0.6666666666666666,
             "#ed7953"
            ],
            [
             0.7777777777777778,
             "#fb9f3a"
            ],
            [
             0.8888888888888888,
             "#fdca26"
            ],
            [
             1,
             "#f0f921"
            ]
           ]
          },
          "colorway": [
           "#636efa",
           "#EF553B",
           "#00cc96",
           "#ab63fa",
           "#FFA15A",
           "#19d3f3",
           "#FF6692",
           "#B6E880",
           "#FF97FF",
           "#FECB52"
          ],
          "font": {
           "color": "#2a3f5f"
          },
          "geo": {
           "bgcolor": "white",
           "lakecolor": "white",
           "landcolor": "#E5ECF6",
           "showlakes": true,
           "showland": true,
           "subunitcolor": "white"
          },
          "hoverlabel": {
           "align": "left"
          },
          "hovermode": "closest",
          "mapbox": {
           "style": "light"
          },
          "paper_bgcolor": "white",
          "plot_bgcolor": "#E5ECF6",
          "polar": {
           "angularaxis": {
            "gridcolor": "white",
            "linecolor": "white",
            "ticks": ""
           },
           "bgcolor": "#E5ECF6",
           "radialaxis": {
            "gridcolor": "white",
            "linecolor": "white",
            "ticks": ""
           }
          },
          "scene": {
           "xaxis": {
            "backgroundcolor": "#E5ECF6",
            "gridcolor": "white",
            "gridwidth": 2,
            "linecolor": "white",
            "showbackground": true,
            "ticks": "",
            "zerolinecolor": "white"
           },
           "yaxis": {
            "backgroundcolor": "#E5ECF6",
            "gridcolor": "white",
            "gridwidth": 2,
            "linecolor": "white",
            "showbackground": true,
            "ticks": "",
            "zerolinecolor": "white"
           },
           "zaxis": {
            "backgroundcolor": "#E5ECF6",
            "gridcolor": "white",
            "gridwidth": 2,
            "linecolor": "white",
            "showbackground": true,
            "ticks": "",
            "zerolinecolor": "white"
           }
          },
          "shapedefaults": {
           "line": {
            "color": "#2a3f5f"
           }
          },
          "ternary": {
           "aaxis": {
            "gridcolor": "white",
            "linecolor": "white",
            "ticks": ""
           },
           "baxis": {
            "gridcolor": "white",
            "linecolor": "white",
            "ticks": ""
           },
           "bgcolor": "#E5ECF6",
           "caxis": {
            "gridcolor": "white",
            "linecolor": "white",
            "ticks": ""
           }
          },
          "title": {
           "x": 0.05
          },
          "xaxis": {
           "automargin": true,
           "gridcolor": "white",
           "linecolor": "white",
           "ticks": "",
           "title": {
            "standoff": 15
           },
           "zerolinecolor": "white",
           "zerolinewidth": 2
          },
          "yaxis": {
           "automargin": true,
           "gridcolor": "white",
           "linecolor": "white",
           "ticks": "",
           "title": {
            "standoff": 15
           },
           "zerolinecolor": "white",
           "zerolinewidth": 2
          }
         }
        },
        "title": {
         "text": "Histogram of Initial and Final Health Scores"
        },
        "xaxis": {
         "anchor": "y",
         "domain": [
          0,
          1
         ],
         "title": {
          "text": "Health Score"
         }
        },
        "yaxis": {
         "anchor": "x",
         "domain": [
          0,
          1
         ],
         "title": {
          "text": "count"
         }
        }
       }
      },
      "text/html": [
       "<div>                            <div id=\"d21d47d5-224d-4d16-b472-e93c12f3aa70\" class=\"plotly-graph-div\" style=\"height:525px; width:100%;\"></div>            <script type=\"text/javascript\">                require([\"plotly\"], function(Plotly) {                    window.PLOTLYENV=window.PLOTLYENV || {};                                    if (document.getElementById(\"d21d47d5-224d-4d16-b472-e93c12f3aa70\")) {                    Plotly.newPlot(                        \"d21d47d5-224d-4d16-b472-e93c12f3aa70\",                        [{\"alignmentgroup\":\"True\",\"bingroup\":\"x\",\"hovertemplate\":\"Score Type=InitialHealthScore\\u003cbr\\u003eHealth Score=%{x}\\u003cbr\\u003ecount=%{y}\\u003cextra\\u003e\\u003c\\u002fextra\\u003e\",\"legendgroup\":\"InitialHealthScore\",\"marker\":{\"color\":\"#636efa\",\"opacity\":0.5,\"pattern\":{\"shape\":\"\"}},\"name\":\"InitialHealthScore\",\"nbinsx\":10,\"offsetgroup\":\"InitialHealthScore\",\"orientation\":\"v\",\"showlegend\":true,\"x\":[84,78,83,81,81,80,79,85,76,83],\"xaxis\":\"x\",\"yaxis\":\"y\",\"type\":\"histogram\"},{\"alignmentgroup\":\"True\",\"bingroup\":\"x\",\"hovertemplate\":\"Score Type=FinalHealthScore\\u003cbr\\u003eHealth Score=%{x}\\u003cbr\\u003ecount=%{y}\\u003cextra\\u003e\\u003c\\u002fextra\\u003e\",\"legendgroup\":\"FinalHealthScore\",\"marker\":{\"color\":\"#EF553B\",\"opacity\":0.5,\"pattern\":{\"shape\":\"\"}},\"name\":\"FinalHealthScore\",\"nbinsx\":10,\"offsetgroup\":\"FinalHealthScore\",\"orientation\":\"v\",\"showlegend\":true,\"x\":[86,86,80,86,84,86,86,82,83,84],\"xaxis\":\"x\",\"yaxis\":\"y\",\"type\":\"histogram\"}],                        {\"template\":{\"data\":{\"histogram2dcontour\":[{\"type\":\"histogram2dcontour\",\"colorbar\":{\"outlinewidth\":0,\"ticks\":\"\"},\"colorscale\":[[0.0,\"#0d0887\"],[0.1111111111111111,\"#46039f\"],[0.2222222222222222,\"#7201a8\"],[0.3333333333333333,\"#9c179e\"],[0.4444444444444444,\"#bd3786\"],[0.5555555555555556,\"#d8576b\"],[0.6666666666666666,\"#ed7953\"],[0.7777777777777778,\"#fb9f3a\"],[0.8888888888888888,\"#fdca26\"],[1.0,\"#f0f921\"]]}],\"choropleth\":[{\"type\":\"choropleth\",\"colorbar\":{\"outlinewidth\":0,\"ticks\":\"\"}}],\"histogram2d\":[{\"type\":\"histogram2d\",\"colorbar\":{\"outlinewidth\":0,\"ticks\":\"\"},\"colorscale\":[[0.0,\"#0d0887\"],[0.1111111111111111,\"#46039f\"],[0.2222222222222222,\"#7201a8\"],[0.3333333333333333,\"#9c179e\"],[0.4444444444444444,\"#bd3786\"],[0.5555555555555556,\"#d8576b\"],[0.6666666666666666,\"#ed7953\"],[0.7777777777777778,\"#fb9f3a\"],[0.8888888888888888,\"#fdca26\"],[1.0,\"#f0f921\"]]}],\"heatmap\":[{\"type\":\"heatmap\",\"colorbar\":{\"outlinewidth\":0,\"ticks\":\"\"},\"colorscale\":[[0.0,\"#0d0887\"],[0.1111111111111111,\"#46039f\"],[0.2222222222222222,\"#7201a8\"],[0.3333333333333333,\"#9c179e\"],[0.4444444444444444,\"#bd3786\"],[0.5555555555555556,\"#d8576b\"],[0.6666666666666666,\"#ed7953\"],[0.7777777777777778,\"#fb9f3a\"],[0.8888888888888888,\"#fdca26\"],[1.0,\"#f0f921\"]]}],\"heatmapgl\":[{\"type\":\"heatmapgl\",\"colorbar\":{\"outlinewidth\":0,\"ticks\":\"\"},\"colorscale\":[[0.0,\"#0d0887\"],[0.1111111111111111,\"#46039f\"],[0.2222222222222222,\"#7201a8\"],[0.3333333333333333,\"#9c179e\"],[0.4444444444444444,\"#bd3786\"],[0.5555555555555556,\"#d8576b\"],[0.6666666666666666,\"#ed7953\"],[0.7777777777777778,\"#fb9f3a\"],[0.8888888888888888,\"#fdca26\"],[1.0,\"#f0f921\"]]}],\"contourcarpet\":[{\"type\":\"contourcarpet\",\"colorbar\":{\"outlinewidth\":0,\"ticks\":\"\"}}],\"contour\":[{\"type\":\"contour\",\"colorbar\":{\"outlinewidth\":0,\"ticks\":\"\"},\"colorscale\":[[0.0,\"#0d0887\"],[0.1111111111111111,\"#46039f\"],[0.2222222222222222,\"#7201a8\"],[0.3333333333333333,\"#9c179e\"],[0.4444444444444444,\"#bd3786\"],[0.5555555555555556,\"#d8576b\"],[0.6666666666666666,\"#ed7953\"],[0.7777777777777778,\"#fb9f3a\"],[0.8888888888888888,\"#fdca26\"],[1.0,\"#f0f921\"]]}],\"surface\":[{\"type\":\"surface\",\"colorbar\":{\"outlinewidth\":0,\"ticks\":\"\"},\"colorscale\":[[0.0,\"#0d0887\"],[0.1111111111111111,\"#46039f\"],[0.2222222222222222,\"#7201a8\"],[0.3333333333333333,\"#9c179e\"],[0.4444444444444444,\"#bd3786\"],[0.5555555555555556,\"#d8576b\"],[0.6666666666666666,\"#ed7953\"],[0.7777777777777778,\"#fb9f3a\"],[0.8888888888888888,\"#fdca26\"],[1.0,\"#f0f921\"]]}],\"mesh3d\":[{\"type\":\"mesh3d\",\"colorbar\":{\"outlinewidth\":0,\"ticks\":\"\"}}],\"scatter\":[{\"fillpattern\":{\"fillmode\":\"overlay\",\"size\":10,\"solidity\":0.2},\"type\":\"scatter\"}],\"parcoords\":[{\"type\":\"parcoords\",\"line\":{\"colorbar\":{\"outlinewidth\":0,\"ticks\":\"\"}}}],\"scatterpolargl\":[{\"type\":\"scatterpolargl\",\"marker\":{\"colorbar\":{\"outlinewidth\":0,\"ticks\":\"\"}}}],\"bar\":[{\"error_x\":{\"color\":\"#2a3f5f\"},\"error_y\":{\"color\":\"#2a3f5f\"},\"marker\":{\"line\":{\"color\":\"#E5ECF6\",\"width\":0.5},\"pattern\":{\"fillmode\":\"overlay\",\"size\":10,\"solidity\":0.2}},\"type\":\"bar\"}],\"scattergeo\":[{\"type\":\"scattergeo\",\"marker\":{\"colorbar\":{\"outlinewidth\":0,\"ticks\":\"\"}}}],\"scatterpolar\":[{\"type\":\"scatterpolar\",\"marker\":{\"colorbar\":{\"outlinewidth\":0,\"ticks\":\"\"}}}],\"histogram\":[{\"marker\":{\"pattern\":{\"fillmode\":\"overlay\",\"size\":10,\"solidity\":0.2}},\"type\":\"histogram\"}],\"scattergl\":[{\"type\":\"scattergl\",\"marker\":{\"colorbar\":{\"outlinewidth\":0,\"ticks\":\"\"}}}],\"scatter3d\":[{\"type\":\"scatter3d\",\"line\":{\"colorbar\":{\"outlinewidth\":0,\"ticks\":\"\"}},\"marker\":{\"colorbar\":{\"outlinewidth\":0,\"ticks\":\"\"}}}],\"scattermapbox\":[{\"type\":\"scattermapbox\",\"marker\":{\"colorbar\":{\"outlinewidth\":0,\"ticks\":\"\"}}}],\"scatterternary\":[{\"type\":\"scatterternary\",\"marker\":{\"colorbar\":{\"outlinewidth\":0,\"ticks\":\"\"}}}],\"scattercarpet\":[{\"type\":\"scattercarpet\",\"marker\":{\"colorbar\":{\"outlinewidth\":0,\"ticks\":\"\"}}}],\"carpet\":[{\"aaxis\":{\"endlinecolor\":\"#2a3f5f\",\"gridcolor\":\"white\",\"linecolor\":\"white\",\"minorgridcolor\":\"white\",\"startlinecolor\":\"#2a3f5f\"},\"baxis\":{\"endlinecolor\":\"#2a3f5f\",\"gridcolor\":\"white\",\"linecolor\":\"white\",\"minorgridcolor\":\"white\",\"startlinecolor\":\"#2a3f5f\"},\"type\":\"carpet\"}],\"table\":[{\"cells\":{\"fill\":{\"color\":\"#EBF0F8\"},\"line\":{\"color\":\"white\"}},\"header\":{\"fill\":{\"color\":\"#C8D4E3\"},\"line\":{\"color\":\"white\"}},\"type\":\"table\"}],\"barpolar\":[{\"marker\":{\"line\":{\"color\":\"#E5ECF6\",\"width\":0.5},\"pattern\":{\"fillmode\":\"overlay\",\"size\":10,\"solidity\":0.2}},\"type\":\"barpolar\"}],\"pie\":[{\"automargin\":true,\"type\":\"pie\"}]},\"layout\":{\"autotypenumbers\":\"strict\",\"colorway\":[\"#636efa\",\"#EF553B\",\"#00cc96\",\"#ab63fa\",\"#FFA15A\",\"#19d3f3\",\"#FF6692\",\"#B6E880\",\"#FF97FF\",\"#FECB52\"],\"font\":{\"color\":\"#2a3f5f\"},\"hovermode\":\"closest\",\"hoverlabel\":{\"align\":\"left\"},\"paper_bgcolor\":\"white\",\"plot_bgcolor\":\"#E5ECF6\",\"polar\":{\"bgcolor\":\"#E5ECF6\",\"angularaxis\":{\"gridcolor\":\"white\",\"linecolor\":\"white\",\"ticks\":\"\"},\"radialaxis\":{\"gridcolor\":\"white\",\"linecolor\":\"white\",\"ticks\":\"\"}},\"ternary\":{\"bgcolor\":\"#E5ECF6\",\"aaxis\":{\"gridcolor\":\"white\",\"linecolor\":\"white\",\"ticks\":\"\"},\"baxis\":{\"gridcolor\":\"white\",\"linecolor\":\"white\",\"ticks\":\"\"},\"caxis\":{\"gridcolor\":\"white\",\"linecolor\":\"white\",\"ticks\":\"\"}},\"coloraxis\":{\"colorbar\":{\"outlinewidth\":0,\"ticks\":\"\"}},\"colorscale\":{\"sequential\":[[0.0,\"#0d0887\"],[0.1111111111111111,\"#46039f\"],[0.2222222222222222,\"#7201a8\"],[0.3333333333333333,\"#9c179e\"],[0.4444444444444444,\"#bd3786\"],[0.5555555555555556,\"#d8576b\"],[0.6666666666666666,\"#ed7953\"],[0.7777777777777778,\"#fb9f3a\"],[0.8888888888888888,\"#fdca26\"],[1.0,\"#f0f921\"]],\"sequentialminus\":[[0.0,\"#0d0887\"],[0.1111111111111111,\"#46039f\"],[0.2222222222222222,\"#7201a8\"],[0.3333333333333333,\"#9c179e\"],[0.4444444444444444,\"#bd3786\"],[0.5555555555555556,\"#d8576b\"],[0.6666666666666666,\"#ed7953\"],[0.7777777777777778,\"#fb9f3a\"],[0.8888888888888888,\"#fdca26\"],[1.0,\"#f0f921\"]],\"diverging\":[[0,\"#8e0152\"],[0.1,\"#c51b7d\"],[0.2,\"#de77ae\"],[0.3,\"#f1b6da\"],[0.4,\"#fde0ef\"],[0.5,\"#f7f7f7\"],[0.6,\"#e6f5d0\"],[0.7,\"#b8e186\"],[0.8,\"#7fbc41\"],[0.9,\"#4d9221\"],[1,\"#276419\"]]},\"xaxis\":{\"gridcolor\":\"white\",\"linecolor\":\"white\",\"ticks\":\"\",\"title\":{\"standoff\":15},\"zerolinecolor\":\"white\",\"automargin\":true,\"zerolinewidth\":2},\"yaxis\":{\"gridcolor\":\"white\",\"linecolor\":\"white\",\"ticks\":\"\",\"title\":{\"standoff\":15},\"zerolinecolor\":\"white\",\"automargin\":true,\"zerolinewidth\":2},\"scene\":{\"xaxis\":{\"backgroundcolor\":\"#E5ECF6\",\"gridcolor\":\"white\",\"linecolor\":\"white\",\"showbackground\":true,\"ticks\":\"\",\"zerolinecolor\":\"white\",\"gridwidth\":2},\"yaxis\":{\"backgroundcolor\":\"#E5ECF6\",\"gridcolor\":\"white\",\"linecolor\":\"white\",\"showbackground\":true,\"ticks\":\"\",\"zerolinecolor\":\"white\",\"gridwidth\":2},\"zaxis\":{\"backgroundcolor\":\"#E5ECF6\",\"gridcolor\":\"white\",\"linecolor\":\"white\",\"showbackground\":true,\"ticks\":\"\",\"zerolinecolor\":\"white\",\"gridwidth\":2}},\"shapedefaults\":{\"line\":{\"color\":\"#2a3f5f\"}},\"annotationdefaults\":{\"arrowcolor\":\"#2a3f5f\",\"arrowhead\":0,\"arrowwidth\":1},\"geo\":{\"bgcolor\":\"white\",\"landcolor\":\"#E5ECF6\",\"subunitcolor\":\"white\",\"showland\":true,\"showlakes\":true,\"lakecolor\":\"white\"},\"title\":{\"x\":0.05},\"mapbox\":{\"style\":\"light\"}}},\"xaxis\":{\"anchor\":\"y\",\"domain\":[0.0,1.0],\"title\":{\"text\":\"Health Score\"}},\"yaxis\":{\"anchor\":\"x\",\"domain\":[0.0,1.0],\"title\":{\"text\":\"count\"}},\"legend\":{\"title\":{\"text\":\"Score Type\"},\"tracegroupgap\":0},\"title\":{\"text\":\"Histogram of Initial and Final Health Scores\"},\"barmode\":\"overlay\"},                        {\"responsive\": true}                    ).then(function(){\n",
       "                            \n",
       "var gd = document.getElementById('d21d47d5-224d-4d16-b472-e93c12f3aa70');\n",
       "var x = new MutationObserver(function (mutations, observer) {{\n",
       "        var display = window.getComputedStyle(gd).display;\n",
       "        if (!display || display === 'none') {{\n",
       "            console.log([gd, 'removed!']);\n",
       "            Plotly.purge(gd);\n",
       "            observer.disconnect();\n",
       "        }}\n",
       "}});\n",
       "\n",
       "// Listen for the removal of the full notebook cells\n",
       "var notebookContainer = gd.closest('#notebook-container');\n",
       "if (notebookContainer) {{\n",
       "    x.observe(notebookContainer, {childList: true});\n",
       "}}\n",
       "\n",
       "// Listen for the clearing of the current output cell\n",
       "var outputEl = gd.closest('.output');\n",
       "if (outputEl) {{\n",
       "    x.observe(outputEl, {childList: true});\n",
       "}}\n",
       "\n",
       "                        })                };                });            </script>        </div>"
      ]
     },
     "metadata": {},
     "output_type": "display_data"
    }
   ],
   "source": [
    "fig = px.histogram(df, \n",
    "                   x=['InitialHealthScore', 'FinalHealthScore'], \n",
    "                   nbins=10,\n",
    "                   title=\"Histogram of Initial and Final Health Scores\",\n",
    "                   labels={\"value\": \"Health Score\", \"variable\": \"Score Type\"},\n",
    "                   barmode=\"overlay\")\n",
    "fig.show(renderer=\"png\")"
   ]
  },
  {
   "cell_type": "code",
   "execution_count": 42,
   "id": "5d76e7d5",
   "metadata": {},
   "outputs": [
    {
     "data": {
      "application/vnd.plotly.v1+json": {
       "config": {
        "plotlyServerURL": "https://plot.ly"
       },
       "data": [
        {
         "alignmentgroup": "True",
         "bingroup": "x",
         "hovertemplate": "x=%{x}<br>count=%{y}<extra></extra>",
         "legendgroup": "",
         "marker": {
          "color": "#636efa",
          "pattern": {
           "shape": ""
          }
         },
         "name": "",
         "offsetgroup": "",
         "orientation": "v",
         "showlegend": false,
         "type": "histogram",
         "x": [
          2.7,
          4.2,
          3.8,
          3.9,
          0.2,
          4.6,
          2.8,
          3.8,
          4,
          2.7,
          0.6,
          1.5,
          3.9,
          3.9,
          4.2,
          4.1,
          4.7,
          3.7,
          5.5,
          3.7,
          2.6,
          0.7,
          3.2,
          5.8,
          2.9,
          2.3,
          3.3,
          2.2,
          4.1,
          2.2,
          3.3,
          4.2,
          1.1,
          4.6,
          3.9,
          2.4,
          3.4,
          3.9,
          3.9,
          3.7,
          3.8,
          4.4,
          4.2,
          3.7,
          3.7,
          4.3,
          2.1,
          1.9,
          1.3,
          3.7,
          1.7,
          2.1,
          4.6,
          5.1,
          5.4,
          4,
          3.3,
          4.8,
          3.8,
          3.5,
          1.3,
          3.3,
          0.9,
          2.3,
          3.8,
          1.8,
          4.1,
          2.2,
          6.1,
          1.8,
          4.2,
          4.4,
          3.6,
          3.1,
          4.1,
          2.5,
          0.5,
          4.5,
          5.6,
          5.2,
          4.2,
          3.1,
          4.3,
          0.5,
          5.9,
          3.6,
          3.8,
          2.5,
          4.4,
          2.2,
          2.7,
          4.5,
          1.1,
          4.5,
          3.2,
          5.1,
          3.1,
          3.2,
          1.4,
          1.8,
          3,
          4.1,
          2.7,
          1.9,
          3.4,
          3.2,
          4.3,
          1.1,
          1.5,
          3.6,
          4.2,
          6.1,
          3.6,
          2.1,
          4.6,
          1.9,
          3.3,
          5.1,
          2.7,
          2.9,
          0,
          2.7,
          4.1,
          3,
          2.9,
          2,
          3.3,
          3.8,
          5.6,
          4.4,
          2,
          3.5,
          2.7,
          4.8,
          3.3,
          4.2,
          1.7,
          3.9,
          1,
          5.1,
          2.9,
          3.9,
          2.7,
          3.1,
          3.5,
          4.1,
          3.5,
          4.1,
          3,
          2.3,
          2.7,
          2,
          5.3,
          5,
          3.2,
          2.3,
          3.4,
          2.3,
          3.8,
          4,
          4.9,
          1.9,
          4.2,
          4.7,
          3.1,
          2.8,
          1.1,
          2.7,
          4.7,
          3,
          4.8,
          2.6,
          3.1,
          4.7,
          2.7,
          3.8,
          2.8,
          3.7,
          3.1,
          4.1,
          3.1,
          4.8,
          3.4,
          5.4,
          4.8,
          2.5,
          2.8,
          5,
          3.5,
          2.5,
          4.8,
          2.3,
          2.2,
          4,
          5.1,
          3.4,
          2,
          3.4,
          2.8,
          2.5,
          3.5,
          2.5,
          5.9,
          4.2,
          3.4,
          4.5,
          1.8,
          4.1,
          2.6,
          1.5,
          3.6,
          4.6,
          3.8,
          3.4,
          2.8,
          3.7,
          3.3,
          4.3,
          3,
          1.9,
          4.8,
          3.3,
          2.9,
          2.5,
          2.8,
          3.2,
          3.8,
          4.8,
          5.1,
          3.5,
          3,
          2,
          2.9,
          4.4,
          4.8,
          4.6,
          3.5,
          1.7,
          2.9,
          3.7,
          2.3,
          3.6,
          2.4,
          1.4,
          3.1,
          2.7,
          1.8,
          1.7,
          3.5,
          2.8,
          3.4,
          4.2,
          3.7,
          3.9,
          3.3,
          3,
          3.8,
          2.8,
          2,
          2.1,
          3,
          4.9,
          4.8,
          2.8,
          4.4,
          4.3,
          4,
          3.2,
          3.5,
          3.9,
          4.3,
          1.6,
          3,
          5.3,
          4.7,
          4,
          3.7,
          2.8,
          4.7,
          2.8,
          4.7,
          2.1,
          3.2,
          3.3,
          3.2,
          1.7,
          3,
          3.1,
          2.8,
          1.7,
          3.1,
          0.7,
          4.2,
          2.8,
          3,
          3.5,
          4.1,
          4.2,
          2.9,
          1.9,
          2,
          3.8,
          4.3,
          3,
          3.3,
          4.6,
          3.6,
          4.5,
          0.9,
          4.9,
          4.1,
          2.4,
          2.3,
          2.7,
          2.9,
          1.8,
          2.5,
          2.6,
          4.6,
          4.2,
          2.8,
          4.9,
          1.1,
          3.3,
          3.6,
          3.7,
          2.5,
          3.4,
          3.8,
          1.7,
          3.6,
          1.1,
          3.5,
          2.7,
          2.9,
          3.6,
          4.9,
          4.6,
          4.2,
          4.8,
          5.1,
          1.9,
          3.5,
          3.5,
          4.1,
          4.9,
          2.9,
          5,
          3.1,
          3.1,
          0.7,
          3.8,
          2.7,
          1.5,
          4.4,
          3.5,
          3.8,
          2.5,
          5.3,
          4.1,
          3.4,
          0.8,
          5.7,
          3,
          2.2,
          4,
          4.8,
          2.8,
          3.7,
          3.4,
          5.8,
          2.8,
          5.1,
          2.4,
          3.9,
          2.9,
          3.5,
          1.7,
          5.9,
          1.9,
          0.8,
          4.8,
          2.6,
          2.1,
          4,
          3.5,
          2.3,
          4.3,
          2.2,
          3.2,
          2,
          4.8,
          2.6,
          3.6,
          4.4,
          3.7,
          4.7,
          0.5,
          2.3,
          4.7,
          3.4,
          4.6,
          5.3,
          3.2,
          2.3,
          2.3,
          3,
          4.9,
          2.4,
          5.8,
          2.6,
          1.8,
          4,
          2.6,
          2.8,
          5.2,
          3.5,
          3.6,
          1.1,
          4.1,
          4.4,
          3.7,
          4,
          3.7,
          3.7,
          2.6,
          4.2,
          3.6,
          4.6,
          2.5,
          3.7,
          3,
          2.9,
          3.9,
          3.4,
          3.8,
          4,
          3.2,
          3.2,
          3.5,
          3.5,
          1.8,
          3,
          2.6,
          4.5,
          3.4,
          2.8,
          4.5,
          2.5,
          2,
          6,
          2.5,
          3.3,
          4,
          4.5,
          1.7,
          4.4,
          4.8,
          3.4,
          2.5,
          3.7,
          4.7,
          2.5,
          3.7,
          4.5,
          2.6,
          5,
          4.1,
          5,
          2.2,
          2.8,
          0.3,
          5.1,
          3.5,
          3.1,
          3,
          3.7,
          4.8,
          4,
          4.2,
          5.6,
          2.8,
          3.7,
          4.1,
          2.7,
          4.7,
          1.8,
          4,
          0.5,
          2.9,
          4.1,
          4,
          3.6,
          0,
          2.5,
          3.7,
          4.6,
          2.1,
          3.6,
          3.6,
          5,
          2,
          4.3,
          5.4,
          0,
          3.5,
          2.8,
          3.4,
          2.7,
          3.9,
          4.2,
          4.9,
          3.6,
          3.9,
          3,
          3.4,
          4.7,
          4,
          3.5,
          4.7,
          1.8,
          1.4,
          4.7,
          3.5,
          4.3,
          3.3,
          4.1,
          5.9,
          5.4,
          1.4,
          5,
          5.8,
          4.1,
          2.6,
          2.3,
          3.8,
          3.5,
          3.5,
          1.8,
          3.4,
          2.2,
          3.4,
          2.9,
          2.6,
          3.3,
          4.6,
          3.6,
          4.1,
          3.1,
          4.1,
          5.1,
          3.7,
          2.8,
          3.7,
          4.5,
          5.1,
          2.7,
          4,
          4,
          3.1,
          1.1,
          2.9,
          4.6,
          3,
          2.7,
          4.5,
          2.7,
          3.1,
          4,
          3.9,
          3.8,
          3.5,
          4.2,
          2.1,
          2.3,
          3.5,
          4.8,
          2.8,
          3.5,
          2,
          1.7,
          0.7,
          3.1,
          3.7,
          4.8,
          1.1,
          3.5,
          5.1,
          4.7,
          3.7,
          3.2,
          4.5,
          3.7,
          5.2,
          3.4,
          2.8,
          3.6,
          3.4,
          4.5,
          3.7,
          4.3,
          3.8,
          4.8,
          3.9,
          4.2,
          4.3,
          4.7,
          4.5,
          4.8,
          4.2,
          4,
          3.9,
          4.9,
          3.2,
          4.5,
          4,
          3.2,
          4.1,
          -0.1,
          5.1,
          3.1,
          2.9,
          1.9,
          4.7,
          3.8,
          2.5,
          4.1,
          5.7,
          4,
          3,
          2.8,
          2.6,
          4,
          1.8,
          4.2,
          2.9,
          4.8,
          4.6,
          3.9,
          4.6,
          4.6,
          5,
          3.2,
          2.7,
          1.2,
          4.6,
          3.7,
          5.7,
          2,
          3.9,
          3.4,
          5.6,
          3.8,
          2.1,
          3.8,
          4.5,
          2,
          2.7,
          2.9,
          2.2,
          3.2,
          4.3,
          4.3,
          3.1,
          4.8,
          3.2,
          4.5,
          3.8,
          3,
          3.1,
          3.1,
          1.4,
          3,
          3.3,
          3.9,
          5.3,
          2.7,
          5.3,
          4.1,
          1.6,
          1.2,
          3.6,
          2.6,
          5,
          2.8,
          3.9,
          4.9,
          3,
          4.5,
          3.2,
          2.1,
          4.6,
          0,
          3.6,
          4.8,
          3.9,
          3.2,
          3.3,
          2.4,
          3.3,
          4.5,
          2.5,
          4,
          4.7,
          3.4,
          2.8,
          2.1,
          2,
          2.9,
          4.8,
          1.1,
          1.8,
          1.3,
          1.3,
          4.2,
          2.2,
          1.2,
          2.1,
          3,
          4.4,
          2.2,
          2.7,
          2.1,
          2.5,
          1.9,
          5.2,
          2.6,
          3.6,
          3.4,
          2.6,
          3.5,
          3.3,
          1.1,
          3,
          4.7,
          4.6,
          3.5,
          3.9,
          4.2,
          0.4,
          2.5,
          3.2,
          4.5,
          3.8,
          4.5,
          5.5,
          4.5,
          1.9,
          2.2,
          1.8,
          2.8,
          4.4,
          4.3,
          2.9,
          4.1,
          4.2,
          1.2,
          3.1,
          3.6,
          4,
          4.3,
          2.9,
          4.2,
          1.6,
          2.2,
          3.2,
          4.5,
          3,
          3.2,
          3.6,
          3.4,
          3.9,
          3.2,
          3.2,
          0.6,
          1.2,
          2.9,
          4.1,
          4.1,
          3.5,
          2.8,
          3.2,
          4.3,
          1.8,
          3.4,
          4.6,
          1.1,
          5,
          3.1,
          3.2,
          3.3,
          3.1,
          4.9,
          3.5,
          3.8,
          2.8,
          2.9,
          0.8,
          3.7,
          4.8,
          2.6,
          1.6,
          4.4,
          3.8,
          2.6,
          2.8,
          1.9,
          0.9,
          3.6,
          4.4,
          3.1,
          2.8,
          3.4,
          3.4,
          4.6,
          2.1,
          4.7,
          4.4,
          3.4,
          3.4,
          2.2,
          4.8,
          4.1,
          2.9,
          4.3,
          3.2,
          3.6,
          -0.2,
          2.9,
          4.2,
          5.8,
          3.9,
          3.8,
          4.7,
          2.6,
          2,
          3.9,
          3.5,
          3.5,
          1.2,
          4.3,
          3.1,
          4.1,
          3.6,
          3,
          5.2,
          2,
          3.7,
          2.8,
          2,
          4.9,
          2.7,
          2.1,
          5.5,
          0.9,
          1.3,
          2.2,
          1.7,
          2.6,
          2.6,
          3.8,
          1.2,
          3.5,
          3.2,
          4,
          3,
          1.7,
          3.9,
          2.8,
          3.4,
          4.3,
          2.7,
          3.9,
          1.7,
          1.9,
          2.9,
          4.3,
          4.7,
          2.4,
          2.8,
          4.5,
          3.4,
          3.8,
          5,
          4.2,
          5.3,
          4.9,
          5.1,
          4,
          2.6,
          4.3,
          5.5,
          3.9,
          4.8,
          3.2,
          4.5,
          1.7,
          4.7,
          2,
          4,
          3.8,
          2.8,
          1.4,
          2.8,
          2.5,
          3.4,
          2.4,
          1,
          1.9,
          5.7,
          2,
          2.9,
          2.6,
          3.1,
          3.9,
          4.2,
          3.8,
          1.7,
          4.6,
          3.1,
          2.6,
          1.9,
          4.2,
          3.8,
          3,
          1.7,
          5.2,
          2.8,
          2.8,
          3.6,
          2.4,
          2,
          6.6,
          0.3,
          4,
          4.1,
          3.3,
          3.9,
          3.5,
          3.8,
          2.3,
          0.9,
          5.7,
          4.8,
          5.2,
          4.5,
          5,
          2.8,
          3.7,
          5.1,
          2.5,
          5,
          3,
          3.3,
          1.2,
          1.8,
          3.5,
          4.1,
          3.3,
          2.9,
          4.2,
          3.2,
          1.7,
          4,
          1.6,
          3.4,
          1.6,
          4.2,
          4,
          4.1,
          2.9,
          2.6,
          3.7,
          3.1,
          2.9,
          4.6,
          5,
          2.7,
          3.5,
          1.9,
          6.6,
          2.7,
          1.5,
          2.1,
          4,
          2.2,
          3.2,
          5.1,
          4.6,
          2.3,
          5.2,
          2.4,
          3.7,
          4.3,
          2.6,
          4.2,
          1.9,
          3.6,
          5.2,
          2.3
         ],
         "xaxis": "x",
         "yaxis": "y"
        }
       ],
       "layout": {
        "barmode": "relative",
        "legend": {
         "tracegroupgap": 0
        },
        "margin": {
         "t": 60
        },
        "template": {
         "data": {
          "bar": [
           {
            "error_x": {
             "color": "#2a3f5f"
            },
            "error_y": {
             "color": "#2a3f5f"
            },
            "marker": {
             "line": {
              "color": "#E5ECF6",
              "width": 0.5
             },
             "pattern": {
              "fillmode": "overlay",
              "size": 10,
              "solidity": 0.2
             }
            },
            "type": "bar"
           }
          ],
          "barpolar": [
           {
            "marker": {
             "line": {
              "color": "#E5ECF6",
              "width": 0.5
             },
             "pattern": {
              "fillmode": "overlay",
              "size": 10,
              "solidity": 0.2
             }
            },
            "type": "barpolar"
           }
          ],
          "carpet": [
           {
            "aaxis": {
             "endlinecolor": "#2a3f5f",
             "gridcolor": "white",
             "linecolor": "white",
             "minorgridcolor": "white",
             "startlinecolor": "#2a3f5f"
            },
            "baxis": {
             "endlinecolor": "#2a3f5f",
             "gridcolor": "white",
             "linecolor": "white",
             "minorgridcolor": "white",
             "startlinecolor": "#2a3f5f"
            },
            "type": "carpet"
           }
          ],
          "choropleth": [
           {
            "colorbar": {
             "outlinewidth": 0,
             "ticks": ""
            },
            "type": "choropleth"
           }
          ],
          "contour": [
           {
            "colorbar": {
             "outlinewidth": 0,
             "ticks": ""
            },
            "colorscale": [
             [
              0,
              "#0d0887"
             ],
             [
              0.1111111111111111,
              "#46039f"
             ],
             [
              0.2222222222222222,
              "#7201a8"
             ],
             [
              0.3333333333333333,
              "#9c179e"
             ],
             [
              0.4444444444444444,
              "#bd3786"
             ],
             [
              0.5555555555555556,
              "#d8576b"
             ],
             [
              0.6666666666666666,
              "#ed7953"
             ],
             [
              0.7777777777777778,
              "#fb9f3a"
             ],
             [
              0.8888888888888888,
              "#fdca26"
             ],
             [
              1,
              "#f0f921"
             ]
            ],
            "type": "contour"
           }
          ],
          "contourcarpet": [
           {
            "colorbar": {
             "outlinewidth": 0,
             "ticks": ""
            },
            "type": "contourcarpet"
           }
          ],
          "heatmap": [
           {
            "colorbar": {
             "outlinewidth": 0,
             "ticks": ""
            },
            "colorscale": [
             [
              0,
              "#0d0887"
             ],
             [
              0.1111111111111111,
              "#46039f"
             ],
             [
              0.2222222222222222,
              "#7201a8"
             ],
             [
              0.3333333333333333,
              "#9c179e"
             ],
             [
              0.4444444444444444,
              "#bd3786"
             ],
             [
              0.5555555555555556,
              "#d8576b"
             ],
             [
              0.6666666666666666,
              "#ed7953"
             ],
             [
              0.7777777777777778,
              "#fb9f3a"
             ],
             [
              0.8888888888888888,
              "#fdca26"
             ],
             [
              1,
              "#f0f921"
             ]
            ],
            "type": "heatmap"
           }
          ],
          "heatmapgl": [
           {
            "colorbar": {
             "outlinewidth": 0,
             "ticks": ""
            },
            "colorscale": [
             [
              0,
              "#0d0887"
             ],
             [
              0.1111111111111111,
              "#46039f"
             ],
             [
              0.2222222222222222,
              "#7201a8"
             ],
             [
              0.3333333333333333,
              "#9c179e"
             ],
             [
              0.4444444444444444,
              "#bd3786"
             ],
             [
              0.5555555555555556,
              "#d8576b"
             ],
             [
              0.6666666666666666,
              "#ed7953"
             ],
             [
              0.7777777777777778,
              "#fb9f3a"
             ],
             [
              0.8888888888888888,
              "#fdca26"
             ],
             [
              1,
              "#f0f921"
             ]
            ],
            "type": "heatmapgl"
           }
          ],
          "histogram": [
           {
            "marker": {
             "pattern": {
              "fillmode": "overlay",
              "size": 10,
              "solidity": 0.2
             }
            },
            "type": "histogram"
           }
          ],
          "histogram2d": [
           {
            "colorbar": {
             "outlinewidth": 0,
             "ticks": ""
            },
            "colorscale": [
             [
              0,
              "#0d0887"
             ],
             [
              0.1111111111111111,
              "#46039f"
             ],
             [
              0.2222222222222222,
              "#7201a8"
             ],
             [
              0.3333333333333333,
              "#9c179e"
             ],
             [
              0.4444444444444444,
              "#bd3786"
             ],
             [
              0.5555555555555556,
              "#d8576b"
             ],
             [
              0.6666666666666666,
              "#ed7953"
             ],
             [
              0.7777777777777778,
              "#fb9f3a"
             ],
             [
              0.8888888888888888,
              "#fdca26"
             ],
             [
              1,
              "#f0f921"
             ]
            ],
            "type": "histogram2d"
           }
          ],
          "histogram2dcontour": [
           {
            "colorbar": {
             "outlinewidth": 0,
             "ticks": ""
            },
            "colorscale": [
             [
              0,
              "#0d0887"
             ],
             [
              0.1111111111111111,
              "#46039f"
             ],
             [
              0.2222222222222222,
              "#7201a8"
             ],
             [
              0.3333333333333333,
              "#9c179e"
             ],
             [
              0.4444444444444444,
              "#bd3786"
             ],
             [
              0.5555555555555556,
              "#d8576b"
             ],
             [
              0.6666666666666666,
              "#ed7953"
             ],
             [
              0.7777777777777778,
              "#fb9f3a"
             ],
             [
              0.8888888888888888,
              "#fdca26"
             ],
             [
              1,
              "#f0f921"
             ]
            ],
            "type": "histogram2dcontour"
           }
          ],
          "mesh3d": [
           {
            "colorbar": {
             "outlinewidth": 0,
             "ticks": ""
            },
            "type": "mesh3d"
           }
          ],
          "parcoords": [
           {
            "line": {
             "colorbar": {
              "outlinewidth": 0,
              "ticks": ""
             }
            },
            "type": "parcoords"
           }
          ],
          "pie": [
           {
            "automargin": true,
            "type": "pie"
           }
          ],
          "scatter": [
           {
            "fillpattern": {
             "fillmode": "overlay",
             "size": 10,
             "solidity": 0.2
            },
            "type": "scatter"
           }
          ],
          "scatter3d": [
           {
            "line": {
             "colorbar": {
              "outlinewidth": 0,
              "ticks": ""
             }
            },
            "marker": {
             "colorbar": {
              "outlinewidth": 0,
              "ticks": ""
             }
            },
            "type": "scatter3d"
           }
          ],
          "scattercarpet": [
           {
            "marker": {
             "colorbar": {
              "outlinewidth": 0,
              "ticks": ""
             }
            },
            "type": "scattercarpet"
           }
          ],
          "scattergeo": [
           {
            "marker": {
             "colorbar": {
              "outlinewidth": 0,
              "ticks": ""
             }
            },
            "type": "scattergeo"
           }
          ],
          "scattergl": [
           {
            "marker": {
             "colorbar": {
              "outlinewidth": 0,
              "ticks": ""
             }
            },
            "type": "scattergl"
           }
          ],
          "scattermapbox": [
           {
            "marker": {
             "colorbar": {
              "outlinewidth": 0,
              "ticks": ""
             }
            },
            "type": "scattermapbox"
           }
          ],
          "scatterpolar": [
           {
            "marker": {
             "colorbar": {
              "outlinewidth": 0,
              "ticks": ""
             }
            },
            "type": "scatterpolar"
           }
          ],
          "scatterpolargl": [
           {
            "marker": {
             "colorbar": {
              "outlinewidth": 0,
              "ticks": ""
             }
            },
            "type": "scatterpolargl"
           }
          ],
          "scatterternary": [
           {
            "marker": {
             "colorbar": {
              "outlinewidth": 0,
              "ticks": ""
             }
            },
            "type": "scatterternary"
           }
          ],
          "surface": [
           {
            "colorbar": {
             "outlinewidth": 0,
             "ticks": ""
            },
            "colorscale": [
             [
              0,
              "#0d0887"
             ],
             [
              0.1111111111111111,
              "#46039f"
             ],
             [
              0.2222222222222222,
              "#7201a8"
             ],
             [
              0.3333333333333333,
              "#9c179e"
             ],
             [
              0.4444444444444444,
              "#bd3786"
             ],
             [
              0.5555555555555556,
              "#d8576b"
             ],
             [
              0.6666666666666666,
              "#ed7953"
             ],
             [
              0.7777777777777778,
              "#fb9f3a"
             ],
             [
              0.8888888888888888,
              "#fdca26"
             ],
             [
              1,
              "#f0f921"
             ]
            ],
            "type": "surface"
           }
          ],
          "table": [
           {
            "cells": {
             "fill": {
              "color": "#EBF0F8"
             },
             "line": {
              "color": "white"
             }
            },
            "header": {
             "fill": {
              "color": "#C8D4E3"
             },
             "line": {
              "color": "white"
             }
            },
            "type": "table"
           }
          ]
         },
         "layout": {
          "annotationdefaults": {
           "arrowcolor": "#2a3f5f",
           "arrowhead": 0,
           "arrowwidth": 1
          },
          "autotypenumbers": "strict",
          "coloraxis": {
           "colorbar": {
            "outlinewidth": 0,
            "ticks": ""
           }
          },
          "colorscale": {
           "diverging": [
            [
             0,
             "#8e0152"
            ],
            [
             0.1,
             "#c51b7d"
            ],
            [
             0.2,
             "#de77ae"
            ],
            [
             0.3,
             "#f1b6da"
            ],
            [
             0.4,
             "#fde0ef"
            ],
            [
             0.5,
             "#f7f7f7"
            ],
            [
             0.6,
             "#e6f5d0"
            ],
            [
             0.7,
             "#b8e186"
            ],
            [
             0.8,
             "#7fbc41"
            ],
            [
             0.9,
             "#4d9221"
            ],
            [
             1,
             "#276419"
            ]
           ],
           "sequential": [
            [
             0,
             "#0d0887"
            ],
            [
             0.1111111111111111,
             "#46039f"
            ],
            [
             0.2222222222222222,
             "#7201a8"
            ],
            [
             0.3333333333333333,
             "#9c179e"
            ],
            [
             0.4444444444444444,
             "#bd3786"
            ],
            [
             0.5555555555555556,
             "#d8576b"
            ],
            [
             0.6666666666666666,
             "#ed7953"
            ],
            [
             0.7777777777777778,
             "#fb9f3a"
            ],
            [
             0.8888888888888888,
             "#fdca26"
            ],
            [
             1,
             "#f0f921"
            ]
           ],
           "sequentialminus": [
            [
             0,
             "#0d0887"
            ],
            [
             0.1111111111111111,
             "#46039f"
            ],
            [
             0.2222222222222222,
             "#7201a8"
            ],
            [
             0.3333333333333333,
             "#9c179e"
            ],
            [
             0.4444444444444444,
             "#bd3786"
            ],
            [
             0.5555555555555556,
             "#d8576b"
            ],
            [
             0.6666666666666666,
             "#ed7953"
            ],
            [
             0.7777777777777778,
             "#fb9f3a"
            ],
            [
             0.8888888888888888,
             "#fdca26"
            ],
            [
             1,
             "#f0f921"
            ]
           ]
          },
          "colorway": [
           "#636efa",
           "#EF553B",
           "#00cc96",
           "#ab63fa",
           "#FFA15A",
           "#19d3f3",
           "#FF6692",
           "#B6E880",
           "#FF97FF",
           "#FECB52"
          ],
          "font": {
           "color": "#2a3f5f"
          },
          "geo": {
           "bgcolor": "white",
           "lakecolor": "white",
           "landcolor": "#E5ECF6",
           "showlakes": true,
           "showland": true,
           "subunitcolor": "white"
          },
          "hoverlabel": {
           "align": "left"
          },
          "hovermode": "closest",
          "mapbox": {
           "style": "light"
          },
          "paper_bgcolor": "white",
          "plot_bgcolor": "#E5ECF6",
          "polar": {
           "angularaxis": {
            "gridcolor": "white",
            "linecolor": "white",
            "ticks": ""
           },
           "bgcolor": "#E5ECF6",
           "radialaxis": {
            "gridcolor": "white",
            "linecolor": "white",
            "ticks": ""
           }
          },
          "scene": {
           "xaxis": {
            "backgroundcolor": "#E5ECF6",
            "gridcolor": "white",
            "gridwidth": 2,
            "linecolor": "white",
            "showbackground": true,
            "ticks": "",
            "zerolinecolor": "white"
           },
           "yaxis": {
            "backgroundcolor": "#E5ECF6",
            "gridcolor": "white",
            "gridwidth": 2,
            "linecolor": "white",
            "showbackground": true,
            "ticks": "",
            "zerolinecolor": "white"
           },
           "zaxis": {
            "backgroundcolor": "#E5ECF6",
            "gridcolor": "white",
            "gridwidth": 2,
            "linecolor": "white",
            "showbackground": true,
            "ticks": "",
            "zerolinecolor": "white"
           }
          },
          "shapedefaults": {
           "line": {
            "color": "#2a3f5f"
           }
          },
          "ternary": {
           "aaxis": {
            "gridcolor": "white",
            "linecolor": "white",
            "ticks": ""
           },
           "baxis": {
            "gridcolor": "white",
            "linecolor": "white",
            "ticks": ""
           },
           "bgcolor": "#E5ECF6",
           "caxis": {
            "gridcolor": "white",
            "linecolor": "white",
            "ticks": ""
           }
          },
          "title": {
           "x": 0.05
          },
          "xaxis": {
           "automargin": true,
           "gridcolor": "white",
           "linecolor": "white",
           "ticks": "",
           "title": {
            "standoff": 15
           },
           "zerolinecolor": "white",
           "zerolinewidth": 2
          },
          "yaxis": {
           "automargin": true,
           "gridcolor": "white",
           "linecolor": "white",
           "ticks": "",
           "title": {
            "standoff": 15
           },
           "zerolinecolor": "white",
           "zerolinewidth": 2
          }
         }
        },
        "xaxis": {
         "anchor": "y",
         "domain": [
          0,
          1
         ],
         "title": {
          "text": "x"
         }
        },
        "yaxis": {
         "anchor": "x",
         "domain": [
          0,
          1
         ],
         "title": {
          "text": "count"
         }
        }
       }
      },
      "text/html": [
       "<div>                            <div id=\"e909f5a8-d466-442c-8afc-ce8a04f7632f\" class=\"plotly-graph-div\" style=\"height:525px; width:100%;\"></div>            <script type=\"text/javascript\">                require([\"plotly\"], function(Plotly) {                    window.PLOTLYENV=window.PLOTLYENV || {};                                    if (document.getElementById(\"e909f5a8-d466-442c-8afc-ce8a04f7632f\")) {                    Plotly.newPlot(                        \"e909f5a8-d466-442c-8afc-ce8a04f7632f\",                        [{\"alignmentgroup\":\"True\",\"bingroup\":\"x\",\"hovertemplate\":\"x=%{x}\\u003cbr\\u003ecount=%{y}\\u003cextra\\u003e\\u003c\\u002fextra\\u003e\",\"legendgroup\":\"\",\"marker\":{\"color\":\"#636efa\",\"pattern\":{\"shape\":\"\"}},\"name\":\"\",\"offsetgroup\":\"\",\"orientation\":\"v\",\"showlegend\":false,\"x\":[2.7,4.2,3.8,3.9,0.2,4.6,2.8,3.8,4.0,2.7,0.6,1.5,3.9,3.9,4.2,4.1,4.7,3.7,5.5,3.7,2.6,0.7,3.2,5.8,2.9,2.3,3.3,2.2,4.1,2.2,3.3,4.2,1.1,4.6,3.9,2.4,3.4,3.9,3.9,3.7,3.8,4.4,4.2,3.7,3.7,4.3,2.1,1.9,1.3,3.7,1.7,2.1,4.6,5.1,5.4,4.0,3.3,4.8,3.8,3.5,1.3,3.3,0.9,2.3,3.8,1.8,4.1,2.2,6.1,1.8,4.2,4.4,3.6,3.1,4.1,2.5,0.5,4.5,5.6,5.2,4.2,3.1,4.3,0.5,5.9,3.6,3.8,2.5,4.4,2.2,2.7,4.5,1.1,4.5,3.2,5.1,3.1,3.2,1.4,1.8,3.0,4.1,2.7,1.9,3.4,3.2,4.3,1.1,1.5,3.6,4.2,6.1,3.6,2.1,4.6,1.9,3.3,5.1,2.7,2.9,0.0,2.7,4.1,3.0,2.9,2.0,3.3,3.8,5.6,4.4,2.0,3.5,2.7,4.8,3.3,4.2,1.7,3.9,1.0,5.1,2.9,3.9,2.7,3.1,3.5,4.1,3.5,4.1,3.0,2.3,2.7,2.0,5.3,5.0,3.2,2.3,3.4,2.3,3.8,4.0,4.9,1.9,4.2,4.7,3.1,2.8,1.1,2.7,4.7,3.0,4.8,2.6,3.1,4.7,2.7,3.8,2.8,3.7,3.1,4.1,3.1,4.8,3.4,5.4,4.8,2.5,2.8,5.0,3.5,2.5,4.8,2.3,2.2,4.0,5.1,3.4,2.0,3.4,2.8,2.5,3.5,2.5,5.9,4.2,3.4,4.5,1.8,4.1,2.6,1.5,3.6,4.6,3.8,3.4,2.8,3.7,3.3,4.3,3.0,1.9,4.8,3.3,2.9,2.5,2.8,3.2,3.8,4.8,5.1,3.5,3.0,2.0,2.9,4.4,4.8,4.6,3.5,1.7,2.9,3.7,2.3,3.6,2.4,1.4,3.1,2.7,1.8,1.7,3.5,2.8,3.4,4.2,3.7,3.9,3.3,3.0,3.8,2.8,2.0,2.1,3.0,4.9,4.8,2.8,4.4,4.3,4.0,3.2,3.5,3.9,4.3,1.6,3.0,5.3,4.7,4.0,3.7,2.8,4.7,2.8,4.7,2.1,3.2,3.3,3.2,1.7,3.0,3.1,2.8,1.7,3.1,0.7,4.2,2.8,3.0,3.5,4.1,4.2,2.9,1.9,2.0,3.8,4.3,3.0,3.3,4.6,3.6,4.5,0.9,4.9,4.1,2.4,2.3,2.7,2.9,1.8,2.5,2.6,4.6,4.2,2.8,4.9,1.1,3.3,3.6,3.7,2.5,3.4,3.8,1.7,3.6,1.1,3.5,2.7,2.9,3.6,4.9,4.6,4.2,4.8,5.1,1.9,3.5,3.5,4.1,4.9,2.9,5.0,3.1,3.1,0.7,3.8,2.7,1.5,4.4,3.5,3.8,2.5,5.3,4.1,3.4,0.8,5.7,3.0,2.2,4.0,4.8,2.8,3.7,3.4,5.8,2.8,5.1,2.4,3.9,2.9,3.5,1.7,5.9,1.9,0.8,4.8,2.6,2.1,4.0,3.5,2.3,4.3,2.2,3.2,2.0,4.8,2.6,3.6,4.4,3.7,4.7,0.5,2.3,4.7,3.4,4.6,5.3,3.2,2.3,2.3,3.0,4.9,2.4,5.8,2.6,1.8,4.0,2.6,2.8,5.2,3.5,3.6,1.1,4.1,4.4,3.7,4.0,3.7,3.7,2.6,4.2,3.6,4.6,2.5,3.7,3.0,2.9,3.9,3.4,3.8,4.0,3.2,3.2,3.5,3.5,1.8,3.0,2.6,4.5,3.4,2.8,4.5,2.5,2.0,6.0,2.5,3.3,4.0,4.5,1.7,4.4,4.8,3.4,2.5,3.7,4.7,2.5,3.7,4.5,2.6,5.0,4.1,5.0,2.2,2.8,0.3,5.1,3.5,3.1,3.0,3.7,4.8,4.0,4.2,5.6,2.8,3.7,4.1,2.7,4.7,1.8,4.0,0.5,2.9,4.1,4.0,3.6,0.0,2.5,3.7,4.6,2.1,3.6,3.6,5.0,2.0,4.3,5.4,0.0,3.5,2.8,3.4,2.7,3.9,4.2,4.9,3.6,3.9,3.0,3.4,4.7,4.0,3.5,4.7,1.8,1.4,4.7,3.5,4.3,3.3,4.1,5.9,5.4,1.4,5.0,5.8,4.1,2.6,2.3,3.8,3.5,3.5,1.8,3.4,2.2,3.4,2.9,2.6,3.3,4.6,3.6,4.1,3.1,4.1,5.1,3.7,2.8,3.7,4.5,5.1,2.7,4.0,4.0,3.1,1.1,2.9,4.6,3.0,2.7,4.5,2.7,3.1,4.0,3.9,3.8,3.5,4.2,2.1,2.3,3.5,4.8,2.8,3.5,2.0,1.7,0.7,3.1,3.7,4.8,1.1,3.5,5.1,4.7,3.7,3.2,4.5,3.7,5.2,3.4,2.8,3.6,3.4,4.5,3.7,4.3,3.8,4.8,3.9,4.2,4.3,4.7,4.5,4.8,4.2,4.0,3.9,4.9,3.2,4.5,4.0,3.2,4.1,-0.1,5.1,3.1,2.9,1.9,4.7,3.8,2.5,4.1,5.7,4.0,3.0,2.8,2.6,4.0,1.8,4.2,2.9,4.8,4.6,3.9,4.6,4.6,5.0,3.2,2.7,1.2,4.6,3.7,5.7,2.0,3.9,3.4,5.6,3.8,2.1,3.8,4.5,2.0,2.7,2.9,2.2,3.2,4.3,4.3,3.1,4.8,3.2,4.5,3.8,3.0,3.1,3.1,1.4,3.0,3.3,3.9,5.3,2.7,5.3,4.1,1.6,1.2,3.6,2.6,5.0,2.8,3.9,4.9,3.0,4.5,3.2,2.1,4.6,0.0,3.6,4.8,3.9,3.2,3.3,2.4,3.3,4.5,2.5,4.0,4.7,3.4,2.8,2.1,2.0,2.9,4.8,1.1,1.8,1.3,1.3,4.2,2.2,1.2,2.1,3.0,4.4,2.2,2.7,2.1,2.5,1.9,5.2,2.6,3.6,3.4,2.6,3.5,3.3,1.1,3.0,4.7,4.6,3.5,3.9,4.2,0.4,2.5,3.2,4.5,3.8,4.5,5.5,4.5,1.9,2.2,1.8,2.8,4.4,4.3,2.9,4.1,4.2,1.2,3.1,3.6,4.0,4.3,2.9,4.2,1.6,2.2,3.2,4.5,3.0,3.2,3.6,3.4,3.9,3.2,3.2,0.6,1.2,2.9,4.1,4.1,3.5,2.8,3.2,4.3,1.8,3.4,4.6,1.1,5.0,3.1,3.2,3.3,3.1,4.9,3.5,3.8,2.8,2.9,0.8,3.7,4.8,2.6,1.6,4.4,3.8,2.6,2.8,1.9,0.9,3.6,4.4,3.1,2.8,3.4,3.4,4.6,2.1,4.7,4.4,3.4,3.4,2.2,4.8,4.1,2.9,4.3,3.2,3.6,-0.2,2.9,4.2,5.8,3.9,3.8,4.7,2.6,2.0,3.9,3.5,3.5,1.2,4.3,3.1,4.1,3.6,3.0,5.2,2.0,3.7,2.8,2.0,4.9,2.7,2.1,5.5,0.9,1.3,2.2,1.7,2.6,2.6,3.8,1.2,3.5,3.2,4.0,3.0,1.7,3.9,2.8,3.4,4.3,2.7,3.9,1.7,1.9,2.9,4.3,4.7,2.4,2.8,4.5,3.4,3.8,5.0,4.2,5.3,4.9,5.1,4.0,2.6,4.3,5.5,3.9,4.8,3.2,4.5,1.7,4.7,2.0,4.0,3.8,2.8,1.4,2.8,2.5,3.4,2.4,1.0,1.9,5.7,2.0,2.9,2.6,3.1,3.9,4.2,3.8,1.7,4.6,3.1,2.6,1.9,4.2,3.8,3.0,1.7,5.2,2.8,2.8,3.6,2.4,2.0,6.6,0.3,4.0,4.1,3.3,3.9,3.5,3.8,2.3,0.9,5.7,4.8,5.2,4.5,5.0,2.8,3.7,5.1,2.5,5.0,3.0,3.3,1.2,1.8,3.5,4.1,3.3,2.9,4.2,3.2,1.7,4.0,1.6,3.4,1.6,4.2,4.0,4.1,2.9,2.6,3.7,3.1,2.9,4.6,5.0,2.7,3.5,1.9,6.6,2.7,1.5,2.1,4.0,2.2,3.2,5.1,4.6,2.3,5.2,2.4,3.7,4.3,2.6,4.2,1.9,3.6,5.2,2.3],\"xaxis\":\"x\",\"yaxis\":\"y\",\"type\":\"histogram\"}],                        {\"template\":{\"data\":{\"histogram2dcontour\":[{\"type\":\"histogram2dcontour\",\"colorbar\":{\"outlinewidth\":0,\"ticks\":\"\"},\"colorscale\":[[0.0,\"#0d0887\"],[0.1111111111111111,\"#46039f\"],[0.2222222222222222,\"#7201a8\"],[0.3333333333333333,\"#9c179e\"],[0.4444444444444444,\"#bd3786\"],[0.5555555555555556,\"#d8576b\"],[0.6666666666666666,\"#ed7953\"],[0.7777777777777778,\"#fb9f3a\"],[0.8888888888888888,\"#fdca26\"],[1.0,\"#f0f921\"]]}],\"choropleth\":[{\"type\":\"choropleth\",\"colorbar\":{\"outlinewidth\":0,\"ticks\":\"\"}}],\"histogram2d\":[{\"type\":\"histogram2d\",\"colorbar\":{\"outlinewidth\":0,\"ticks\":\"\"},\"colorscale\":[[0.0,\"#0d0887\"],[0.1111111111111111,\"#46039f\"],[0.2222222222222222,\"#7201a8\"],[0.3333333333333333,\"#9c179e\"],[0.4444444444444444,\"#bd3786\"],[0.5555555555555556,\"#d8576b\"],[0.6666666666666666,\"#ed7953\"],[0.7777777777777778,\"#fb9f3a\"],[0.8888888888888888,\"#fdca26\"],[1.0,\"#f0f921\"]]}],\"heatmap\":[{\"type\":\"heatmap\",\"colorbar\":{\"outlinewidth\":0,\"ticks\":\"\"},\"colorscale\":[[0.0,\"#0d0887\"],[0.1111111111111111,\"#46039f\"],[0.2222222222222222,\"#7201a8\"],[0.3333333333333333,\"#9c179e\"],[0.4444444444444444,\"#bd3786\"],[0.5555555555555556,\"#d8576b\"],[0.6666666666666666,\"#ed7953\"],[0.7777777777777778,\"#fb9f3a\"],[0.8888888888888888,\"#fdca26\"],[1.0,\"#f0f921\"]]}],\"heatmapgl\":[{\"type\":\"heatmapgl\",\"colorbar\":{\"outlinewidth\":0,\"ticks\":\"\"},\"colorscale\":[[0.0,\"#0d0887\"],[0.1111111111111111,\"#46039f\"],[0.2222222222222222,\"#7201a8\"],[0.3333333333333333,\"#9c179e\"],[0.4444444444444444,\"#bd3786\"],[0.5555555555555556,\"#d8576b\"],[0.6666666666666666,\"#ed7953\"],[0.7777777777777778,\"#fb9f3a\"],[0.8888888888888888,\"#fdca26\"],[1.0,\"#f0f921\"]]}],\"contourcarpet\":[{\"type\":\"contourcarpet\",\"colorbar\":{\"outlinewidth\":0,\"ticks\":\"\"}}],\"contour\":[{\"type\":\"contour\",\"colorbar\":{\"outlinewidth\":0,\"ticks\":\"\"},\"colorscale\":[[0.0,\"#0d0887\"],[0.1111111111111111,\"#46039f\"],[0.2222222222222222,\"#7201a8\"],[0.3333333333333333,\"#9c179e\"],[0.4444444444444444,\"#bd3786\"],[0.5555555555555556,\"#d8576b\"],[0.6666666666666666,\"#ed7953\"],[0.7777777777777778,\"#fb9f3a\"],[0.8888888888888888,\"#fdca26\"],[1.0,\"#f0f921\"]]}],\"surface\":[{\"type\":\"surface\",\"colorbar\":{\"outlinewidth\":0,\"ticks\":\"\"},\"colorscale\":[[0.0,\"#0d0887\"],[0.1111111111111111,\"#46039f\"],[0.2222222222222222,\"#7201a8\"],[0.3333333333333333,\"#9c179e\"],[0.4444444444444444,\"#bd3786\"],[0.5555555555555556,\"#d8576b\"],[0.6666666666666666,\"#ed7953\"],[0.7777777777777778,\"#fb9f3a\"],[0.8888888888888888,\"#fdca26\"],[1.0,\"#f0f921\"]]}],\"mesh3d\":[{\"type\":\"mesh3d\",\"colorbar\":{\"outlinewidth\":0,\"ticks\":\"\"}}],\"scatter\":[{\"fillpattern\":{\"fillmode\":\"overlay\",\"size\":10,\"solidity\":0.2},\"type\":\"scatter\"}],\"parcoords\":[{\"type\":\"parcoords\",\"line\":{\"colorbar\":{\"outlinewidth\":0,\"ticks\":\"\"}}}],\"scatterpolargl\":[{\"type\":\"scatterpolargl\",\"marker\":{\"colorbar\":{\"outlinewidth\":0,\"ticks\":\"\"}}}],\"bar\":[{\"error_x\":{\"color\":\"#2a3f5f\"},\"error_y\":{\"color\":\"#2a3f5f\"},\"marker\":{\"line\":{\"color\":\"#E5ECF6\",\"width\":0.5},\"pattern\":{\"fillmode\":\"overlay\",\"size\":10,\"solidity\":0.2}},\"type\":\"bar\"}],\"scattergeo\":[{\"type\":\"scattergeo\",\"marker\":{\"colorbar\":{\"outlinewidth\":0,\"ticks\":\"\"}}}],\"scatterpolar\":[{\"type\":\"scatterpolar\",\"marker\":{\"colorbar\":{\"outlinewidth\":0,\"ticks\":\"\"}}}],\"histogram\":[{\"marker\":{\"pattern\":{\"fillmode\":\"overlay\",\"size\":10,\"solidity\":0.2}},\"type\":\"histogram\"}],\"scattergl\":[{\"type\":\"scattergl\",\"marker\":{\"colorbar\":{\"outlinewidth\":0,\"ticks\":\"\"}}}],\"scatter3d\":[{\"type\":\"scatter3d\",\"line\":{\"colorbar\":{\"outlinewidth\":0,\"ticks\":\"\"}},\"marker\":{\"colorbar\":{\"outlinewidth\":0,\"ticks\":\"\"}}}],\"scattermapbox\":[{\"type\":\"scattermapbox\",\"marker\":{\"colorbar\":{\"outlinewidth\":0,\"ticks\":\"\"}}}],\"scatterternary\":[{\"type\":\"scatterternary\",\"marker\":{\"colorbar\":{\"outlinewidth\":0,\"ticks\":\"\"}}}],\"scattercarpet\":[{\"type\":\"scattercarpet\",\"marker\":{\"colorbar\":{\"outlinewidth\":0,\"ticks\":\"\"}}}],\"carpet\":[{\"aaxis\":{\"endlinecolor\":\"#2a3f5f\",\"gridcolor\":\"white\",\"linecolor\":\"white\",\"minorgridcolor\":\"white\",\"startlinecolor\":\"#2a3f5f\"},\"baxis\":{\"endlinecolor\":\"#2a3f5f\",\"gridcolor\":\"white\",\"linecolor\":\"white\",\"minorgridcolor\":\"white\",\"startlinecolor\":\"#2a3f5f\"},\"type\":\"carpet\"}],\"table\":[{\"cells\":{\"fill\":{\"color\":\"#EBF0F8\"},\"line\":{\"color\":\"white\"}},\"header\":{\"fill\":{\"color\":\"#C8D4E3\"},\"line\":{\"color\":\"white\"}},\"type\":\"table\"}],\"barpolar\":[{\"marker\":{\"line\":{\"color\":\"#E5ECF6\",\"width\":0.5},\"pattern\":{\"fillmode\":\"overlay\",\"size\":10,\"solidity\":0.2}},\"type\":\"barpolar\"}],\"pie\":[{\"automargin\":true,\"type\":\"pie\"}]},\"layout\":{\"autotypenumbers\":\"strict\",\"colorway\":[\"#636efa\",\"#EF553B\",\"#00cc96\",\"#ab63fa\",\"#FFA15A\",\"#19d3f3\",\"#FF6692\",\"#B6E880\",\"#FF97FF\",\"#FECB52\"],\"font\":{\"color\":\"#2a3f5f\"},\"hovermode\":\"closest\",\"hoverlabel\":{\"align\":\"left\"},\"paper_bgcolor\":\"white\",\"plot_bgcolor\":\"#E5ECF6\",\"polar\":{\"bgcolor\":\"#E5ECF6\",\"angularaxis\":{\"gridcolor\":\"white\",\"linecolor\":\"white\",\"ticks\":\"\"},\"radialaxis\":{\"gridcolor\":\"white\",\"linecolor\":\"white\",\"ticks\":\"\"}},\"ternary\":{\"bgcolor\":\"#E5ECF6\",\"aaxis\":{\"gridcolor\":\"white\",\"linecolor\":\"white\",\"ticks\":\"\"},\"baxis\":{\"gridcolor\":\"white\",\"linecolor\":\"white\",\"ticks\":\"\"},\"caxis\":{\"gridcolor\":\"white\",\"linecolor\":\"white\",\"ticks\":\"\"}},\"coloraxis\":{\"colorbar\":{\"outlinewidth\":0,\"ticks\":\"\"}},\"colorscale\":{\"sequential\":[[0.0,\"#0d0887\"],[0.1111111111111111,\"#46039f\"],[0.2222222222222222,\"#7201a8\"],[0.3333333333333333,\"#9c179e\"],[0.4444444444444444,\"#bd3786\"],[0.5555555555555556,\"#d8576b\"],[0.6666666666666666,\"#ed7953\"],[0.7777777777777778,\"#fb9f3a\"],[0.8888888888888888,\"#fdca26\"],[1.0,\"#f0f921\"]],\"sequentialminus\":[[0.0,\"#0d0887\"],[0.1111111111111111,\"#46039f\"],[0.2222222222222222,\"#7201a8\"],[0.3333333333333333,\"#9c179e\"],[0.4444444444444444,\"#bd3786\"],[0.5555555555555556,\"#d8576b\"],[0.6666666666666666,\"#ed7953\"],[0.7777777777777778,\"#fb9f3a\"],[0.8888888888888888,\"#fdca26\"],[1.0,\"#f0f921\"]],\"diverging\":[[0,\"#8e0152\"],[0.1,\"#c51b7d\"],[0.2,\"#de77ae\"],[0.3,\"#f1b6da\"],[0.4,\"#fde0ef\"],[0.5,\"#f7f7f7\"],[0.6,\"#e6f5d0\"],[0.7,\"#b8e186\"],[0.8,\"#7fbc41\"],[0.9,\"#4d9221\"],[1,\"#276419\"]]},\"xaxis\":{\"gridcolor\":\"white\",\"linecolor\":\"white\",\"ticks\":\"\",\"title\":{\"standoff\":15},\"zerolinecolor\":\"white\",\"automargin\":true,\"zerolinewidth\":2},\"yaxis\":{\"gridcolor\":\"white\",\"linecolor\":\"white\",\"ticks\":\"\",\"title\":{\"standoff\":15},\"zerolinecolor\":\"white\",\"automargin\":true,\"zerolinewidth\":2},\"scene\":{\"xaxis\":{\"backgroundcolor\":\"#E5ECF6\",\"gridcolor\":\"white\",\"linecolor\":\"white\",\"showbackground\":true,\"ticks\":\"\",\"zerolinecolor\":\"white\",\"gridwidth\":2},\"yaxis\":{\"backgroundcolor\":\"#E5ECF6\",\"gridcolor\":\"white\",\"linecolor\":\"white\",\"showbackground\":true,\"ticks\":\"\",\"zerolinecolor\":\"white\",\"gridwidth\":2},\"zaxis\":{\"backgroundcolor\":\"#E5ECF6\",\"gridcolor\":\"white\",\"linecolor\":\"white\",\"showbackground\":true,\"ticks\":\"\",\"zerolinecolor\":\"white\",\"gridwidth\":2}},\"shapedefaults\":{\"line\":{\"color\":\"#2a3f5f\"}},\"annotationdefaults\":{\"arrowcolor\":\"#2a3f5f\",\"arrowhead\":0,\"arrowwidth\":1},\"geo\":{\"bgcolor\":\"white\",\"landcolor\":\"#E5ECF6\",\"subunitcolor\":\"white\",\"showland\":true,\"showlakes\":true,\"lakecolor\":\"white\"},\"title\":{\"x\":0.05},\"mapbox\":{\"style\":\"light\"}}},\"xaxis\":{\"anchor\":\"y\",\"domain\":[0.0,1.0],\"title\":{\"text\":\"x\"}},\"yaxis\":{\"anchor\":\"x\",\"domain\":[0.0,1.0],\"title\":{\"text\":\"count\"}},\"legend\":{\"tracegroupgap\":0},\"margin\":{\"t\":60},\"barmode\":\"relative\"},                        {\"responsive\": true}                    ).then(function(){\n",
       "                            \n",
       "var gd = document.getElementById('e909f5a8-d466-442c-8afc-ce8a04f7632f');\n",
       "var x = new MutationObserver(function (mutations, observer) {{\n",
       "        var display = window.getComputedStyle(gd).display;\n",
       "        if (!display || display === 'none') {{\n",
       "            console.log([gd, 'removed!']);\n",
       "            Plotly.purge(gd);\n",
       "            observer.disconnect();\n",
       "        }}\n",
       "}});\n",
       "\n",
       "// Listen for the removal of the full notebook cells\n",
       "var notebookContainer = gd.closest('#notebook-container');\n",
       "if (notebookContainer) {{\n",
       "    x.observe(notebookContainer, {childList: true});\n",
       "}}\n",
       "\n",
       "// Listen for the clearing of the current output cell\n",
       "var outputEl = gd.closest('.output');\n",
       "if (outputEl) {{\n",
       "    x.observe(outputEl, {childList: true});\n",
       "}}\n",
       "\n",
       "                        })                };                });            </script>        </div>"
      ]
     },
     "metadata": {},
     "output_type": "display_data"
    }
   ],
   "source": [
    "N=1000\n",
    "boot_mean=np.zeros(N)\n",
    "np.random.seed(0)\n",
    "for i in range(N):\n",
    "    boot_sample=np.random.choice(df.difference,size=len(df.difference),replace=True)\n",
    "    boot_mean[i]=np.mean(boot_sample)\n",
    "fig=px.histogram(pd.DataFrame({'x':boot_mean}),x='x') \n",
    "fig.show(renderer=\"png\")"
   ]
  },
  {
   "cell_type": "code",
   "execution_count": 41,
   "id": "39e417ce",
   "metadata": {},
   "outputs": [
    {
     "data": {
      "text/plain": [
       "array([0.9, 5.5])"
      ]
     },
     "execution_count": 41,
     "metadata": {},
     "output_type": "execute_result"
    }
   ],
   "source": [
    "np.quantile(boot_mean,[0.025,0.975])"
   ]
  },
  {
   "cell_type": "markdown",
   "id": "cab56129",
   "metadata": {},
   "source": [
    "Conclusion: 'Null hypothesis' is rejected because 0 is not in our confidence interval. So the result shows that the vaccine is effective. "
   ]
  },
  {
   "cell_type": "markdown",
   "id": "b4107622",
   "metadata": {},
   "source": [
    "Summarize: DataFrame Creation: You provided a dataset of health scores for patients, and I showed you how to create a pandas DataFrame from it.\n",
    "\n",
    "Data Manipulation: You asked for a new column (difference) to be added, which calculates the difference between FinalHealthScore and InitialHealthScore.\n",
    "\n",
    "Plotting a Histogram: I provided a Python code snippet using plotly.express to create a histogram comparing InitialHealthScore and FinalHealthScore. The histogram overlays the two distributions for comparison."
   ]
  },
  {
   "cell_type": "markdown",
   "id": "2e69d121",
   "metadata": {},
   "source": [
    "https://chatgpt.com/share/66fde523-4234-8010-88ee-db87fb98bdc7"
   ]
  },
  {
   "cell_type": "markdown",
   "id": "151e6efa",
   "metadata": {},
   "source": [
    "9.Mostly"
   ]
  }
 ],
 "metadata": {
  "kernelspec": {
   "display_name": "Python 3 (ipykernel)",
   "language": "python",
   "name": "python3"
  },
  "language_info": {
   "codemirror_mode": {
    "name": "ipython",
    "version": 3
   },
   "file_extension": ".py",
   "mimetype": "text/x-python",
   "name": "python",
   "nbconvert_exporter": "python",
   "pygments_lexer": "ipython3",
   "version": "3.11.6"
  }
 },
 "nbformat": 4,
 "nbformat_minor": 5
}
